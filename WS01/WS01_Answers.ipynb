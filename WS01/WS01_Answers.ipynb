{
 "cells": [
  {
   "cell_type": "markdown",
   "id": "568b53343185a8e9",
   "metadata": {},
   "source": [
    "# WS01 - Pandas and Plots"
   ]
  },
  {
   "cell_type": "markdown",
   "id": "15a0f7c4",
   "metadata": {},
   "source": [
    "### Import modules"
   ]
  },
  {
   "cell_type": "code",
   "execution_count": 3,
   "id": "532dc7d3",
   "metadata": {},
   "outputs": [],
   "source": [
    "import pandas as pd"
   ]
  },
  {
   "cell_type": "markdown",
   "id": "7a9a2d4e49d13c1b",
   "metadata": {},
   "source": [
    "### PS01 - Read and Load Dataset"
   ]
  },
  {
   "cell_type": "code",
   "execution_count": 4,
   "id": "c59ddff6",
   "metadata": {},
   "outputs": [],
   "source": [
    "df = pd.read_csv('./IPL.csv')"
   ]
  },
  {
   "cell_type": "markdown",
   "id": "144d9184",
   "metadata": {},
   "source": [
    "### PS02 - Use Pandas Features"
   ]
  },
  {
   "cell_type": "markdown",
   "id": "cdaea2a0",
   "metadata": {},
   "source": [
    "#### Selecting"
   ]
  },
  {
   "cell_type": "code",
   "execution_count": 20,
   "id": "72540bf4",
   "metadata": {},
   "outputs": [
    {
     "name": "stdout",
     "output_type": "stream",
     "text": [
      "Selected Columns:\n",
      "    PLAYER NAME  AGE COUNTRY PLAYING ROLE\n",
      "0   Abdulla, YA    2      SA   Allrounder\n",
      "1  Abdur Razzak    2     BAN       Bowler\n",
      "2   Agarkar, AB    2     IND       Bowler\n",
      "3     Ashwin, R    1     IND       Bowler\n",
      "4  Badrinath, S    2     IND      Batsman\n"
     ]
    }
   ],
   "source": [
    "# Select specific columns from the DataFrame\n",
    "selected_columns = df[['PLAYER NAME', 'AGE', 'COUNTRY', 'PLAYING ROLE']]\n",
    "print(\"Selected Columns:\")\n",
    "print(selected_columns.head())"
   ]
  },
  {
   "cell_type": "code",
   "execution_count": 21,
   "id": "59217d9b",
   "metadata": {},
   "outputs": [
    {
     "name": "stdout",
     "output_type": "stream",
     "text": [
      "\n",
      "Country Column:\n",
      "0     SA\n",
      "1    BAN\n",
      "2    IND\n",
      "3    IND\n",
      "4    IND\n",
      "Name: COUNTRY, dtype: object\n"
     ]
    }
   ],
   "source": [
    "# Access the 'COUNTRY' column\n",
    "country = df['COUNTRY']\n",
    "print(\"\\nCountry Column:\")\n",
    "print(country.head())"
   ]
  },
  {
   "cell_type": "code",
   "execution_count": 22,
   "id": "cba00f96",
   "metadata": {},
   "outputs": [
    {
     "name": "stdout",
     "output_type": "stream",
     "text": [
      "\n",
      "Shape of 'COUNTRY' Column:\n",
      "(130,)\n"
     ]
    }
   ],
   "source": [
    "# Display the shape of the 'COUNTRY' column\n",
    "country_shape = country.shape\n",
    "print(\"\\nShape of 'COUNTRY' Column:\")\n",
    "print(country_shape)"
   ]
  },
  {
   "cell_type": "code",
   "execution_count": 23,
   "id": "796ebe07",
   "metadata": {},
   "outputs": [
    {
     "name": "stdout",
     "output_type": "stream",
     "text": [
      "\n",
      "Type of 'COUNTRY' Column:\n",
      "<class 'pandas.core.series.Series'>\n"
     ]
    }
   ],
   "source": [
    "# Display the type of the 'COUNTRY' column\n",
    "country_type = type(country)\n",
    "print(\"\\nType of 'COUNTRY' Column:\")\n",
    "print(country_type)"
   ]
  },
  {
   "cell_type": "markdown",
   "id": "5ee97aae",
   "metadata": {},
   "source": [
    "#### Filtering\n",
    "[Reference](https://builtin.com/data-science/pandas-filter)"
   ]
  },
  {
   "cell_type": "code",
   "execution_count": 24,
   "id": "41273bfb",
   "metadata": {},
   "outputs": [
    {
     "name": "stdout",
     "output_type": "stream",
     "text": [
      "    Sl.NO.     PLAYER NAME  AGE COUNTRY  TEAM PLAYING ROLE  T-RUNS  T-WKTS  \\\n",
      "1        2    Abdur Razzak    2     BAN   RCB       Bowler     214      18   \n",
      "4        5    Badrinath, S    2     IND   CSK      Batsman      63       0   \n",
      "5        6      Bailey, GJ    2     AUS   CSK      Batsman       0       0   \n",
      "9       10     Boucher, MV    2      SA  RCB+    W. Keeper    5515       1   \n",
      "11      12  Chanderpaul, S    3      WI   RCB      Batsman    9918       9   \n",
      "\n",
      "    ODI-RUNS-S  ODI-SR-B  ...    SR-B  SIXERS  RUNS-C  WKTS  AVE-BL  ECON  \\\n",
      "1          657     71.41  ...    0.00       0      29     0     0.0  14.5   \n",
      "4           79     45.93  ...  120.71      28       0     0     0.0   0.0   \n",
      "5          172     72.26  ...   95.45       0       0     0     0.0   0.0   \n",
      "9         4686     84.76  ...  127.51      13       0     0     0.0   0.0   \n",
      "11        8778     70.74  ...   80.64       0       0     0     0.0   0.0   \n",
      "\n",
      "    SR-BL  AUCTION YEAR  BASE PRICE  SOLD PRICE  \n",
      "1     0.0          2008       50000       50000  \n",
      "4     0.0          2011      100000      800000  \n",
      "5     0.0          2009       50000       50000  \n",
      "9     0.0          2008      200000      450000  \n",
      "11    0.0          2008      200000      200000  \n",
      "\n",
      "[5 rows x 26 columns]\n"
     ]
    }
   ],
   "source": [
    "# Filter rows where 'WKTS' is less than or equal to 10\n",
    "filtered_df = df[df['WKTS'] <= 10]\n",
    "print(filtered_df.head())\n"
   ]
  },
  {
   "cell_type": "code",
   "execution_count": 25,
   "id": "4f0e8492",
   "metadata": {},
   "outputs": [
    {
     "name": "stdout",
     "output_type": "stream",
     "text": [
      "Empty DataFrame\n",
      "Columns: [Sl.NO., PLAYER NAME, AGE, COUNTRY, TEAM, PLAYING ROLE, T-RUNS, T-WKTS, ODI-RUNS-S, ODI-SR-B, ODI-WKTS, ODI-SR-BL, CAPTAINCY EXP, RUNS-S, HS, AVE, SR-B, SIXERS, RUNS-C, WKTS, AVE-BL, ECON, SR-BL, AUCTION YEAR, BASE PRICE, SOLD PRICE]\n",
      "Index: []\n",
      "\n",
      "[0 rows x 26 columns]\n",
      "    Sl.NO.     PLAYER NAME  AGE COUNTRY  TEAM PLAYING ROLE  T-RUNS  T-WKTS  \\\n",
      "1        2    Abdur Razzak    2     BAN   RCB       Bowler     214      18   \n",
      "4        5    Badrinath, S    2     IND   CSK      Batsman      63       0   \n",
      "5        6      Bailey, GJ    2     AUS   CSK      Batsman       0       0   \n",
      "9       10     Boucher, MV    2      SA  RCB+    W. Keeper    5515       1   \n",
      "11      12  Chanderpaul, S    3      WI   RCB      Batsman    9918       9   \n",
      "\n",
      "    ODI-RUNS-S  ODI-SR-B  ...    SR-B  SIXERS  RUNS-C  WKTS  AVE-BL  ECON  \\\n",
      "1          657     71.41  ...    0.00       0      29     0     0.0  14.5   \n",
      "4           79     45.93  ...  120.71      28       0     0     0.0   0.0   \n",
      "5          172     72.26  ...   95.45       0       0     0     0.0   0.0   \n",
      "9         4686     84.76  ...  127.51      13       0     0     0.0   0.0   \n",
      "11        8778     70.74  ...   80.64       0       0     0     0.0   0.0   \n",
      "\n",
      "    SR-BL  AUCTION YEAR  BASE PRICE  SOLD PRICE  \n",
      "1     0.0          2008       50000       50000  \n",
      "4     0.0          2011      100000      800000  \n",
      "5     0.0          2009       50000       50000  \n",
      "9     0.0          2008      200000      450000  \n",
      "11    0.0          2008      200000      200000  \n",
      "\n",
      "[5 rows x 26 columns]\n",
      "   Sl.NO.    PLAYER NAME  AGE COUNTRY  TEAM PLAYING ROLE  T-RUNS  T-WKTS  \\\n",
      "0       1    Abdulla, YA    2      SA  KXIP   Allrounder       0       0   \n",
      "2       3    Agarkar, AB    2     IND   KKR       Bowler     571      58   \n",
      "3       4      Ashwin, R    1     IND   CSK       Bowler     284      31   \n",
      "6       7      Balaji, L    2     IND  CSK+       Bowler      51      27   \n",
      "7       8  Bollinger, DE    2     AUS   CSK       Bowler      54      50   \n",
      "\n",
      "   ODI-RUNS-S  ODI-SR-B  ...    SR-B  SIXERS  RUNS-C  WKTS  AVE-BL  ECON  \\\n",
      "0           0      0.00  ...    0.00       0     307    15   20.47  8.90   \n",
      "2        1269     80.62  ...  121.01       5    1059    29   36.52  8.81   \n",
      "3         241     84.56  ...   76.32       0    1125    49   22.96  6.23   \n",
      "6         120     78.94  ...   72.22       1    1342    52   25.81  7.98   \n",
      "7          50     92.59  ...  165.88       1     693    37   18.73  7.22   \n",
      "\n",
      "   SR-BL  AUCTION YEAR  BASE PRICE  SOLD PRICE  \n",
      "0  13.93          2009       50000       50000  \n",
      "2  24.90          2008      200000      350000  \n",
      "3  22.14          2011      100000      850000  \n",
      "6  19.40          2011      100000      500000  \n",
      "7  15.57          2011      200000      700000  \n",
      "\n",
      "[5 rows x 26 columns]\n"
     ]
    }
   ],
   "source": [
    "# Filter rows where 'WKTS' is less than or equal to 10 and 'AGE' is greater than 30\n",
    "filtered_df = df[(df['WKTS'] <= 10) & (df['AGE'] > 30)]\n",
    "print(filtered_df.head())\n",
    "\n",
    "# Filter rows where 'WKTS' is less than or equal to 10 or 'AGE' is greater than 30\n",
    "filtered_df = df[(df['WKTS'] <= 10) | (df['AGE'] > 30)]\n",
    "print(filtered_df.head())\n",
    "\n",
    "# Filter rows where 'WKTS' is not less than or equal to 10\n",
    "filtered_df = df[~(df['WKTS'] <= 10)]\n",
    "print(filtered_df.head())"
   ]
  },
  {
   "cell_type": "code",
   "execution_count": 26,
   "id": "9b714360",
   "metadata": {},
   "outputs": [
    {
     "name": "stdout",
     "output_type": "stream",
     "text": [
      "Empty DataFrame\n",
      "Columns: [Sl.NO., PLAYER NAME, AGE, COUNTRY, TEAM, PLAYING ROLE, T-RUNS, T-WKTS, ODI-RUNS-S, ODI-SR-B, ODI-WKTS, ODI-SR-BL, CAPTAINCY EXP, RUNS-S, HS, AVE, SR-B, SIXERS, RUNS-C, WKTS, AVE-BL, ECON, SR-BL, AUCTION YEAR, BASE PRICE, SOLD PRICE]\n",
      "Index: []\n",
      "\n",
      "[0 rows x 26 columns]\n"
     ]
    }
   ],
   "source": [
    "# Filter rows where 'COUNTRY' is either 'India' or 'Australia'\n",
    "filtered_df = df[df['COUNTRY'].isin(['India', 'Australia'])]\n",
    "print(filtered_df.head())"
   ]
  },
  {
   "cell_type": "code",
   "execution_count": 27,
   "id": "2a2cd136",
   "metadata": {},
   "outputs": [
    {
     "name": "stdout",
     "output_type": "stream",
     "text": [
      "Empty DataFrame\n",
      "Columns: [Sl.NO., PLAYER NAME, AGE, COUNTRY, TEAM, PLAYING ROLE, T-RUNS, T-WKTS, ODI-RUNS-S, ODI-SR-B, ODI-WKTS, ODI-SR-BL, CAPTAINCY EXP, RUNS-S, HS, AVE, SR-B, SIXERS, RUNS-C, WKTS, AVE-BL, ECON, SR-BL, AUCTION YEAR, BASE PRICE, SOLD PRICE]\n",
      "Index: []\n",
      "\n",
      "[0 rows x 26 columns]\n"
     ]
    }
   ],
   "source": [
    "# Filter rows where 'AGE' is between 25 and 35 (inclusive)\n",
    "filtered_df = df[df['AGE'].between(25, 35)]\n",
    "print(filtered_df.head())"
   ]
  },
  {
   "cell_type": "code",
   "execution_count": 28,
   "id": "1296f8c7",
   "metadata": {},
   "outputs": [
    {
     "name": "stdout",
     "output_type": "stream",
     "text": [
      "     Sl.NO.      PLAYER NAME  AGE COUNTRY   TEAM PLAYING ROLE  T-RUNS  T-WKTS  \\\n",
      "30       31  Harbhajan Singh    2     IND     MI       Bowler    2164     406   \n",
      "78       79     Pankaj Singh    2     IND   RCB+       Bowler       0       0   \n",
      "101     102        Singh, RP    2     IND    DC+       Bowler     116      40   \n",
      "127     128     Yuvraj Singh    2     IND  KXIP+      Batsman    1775       9   \n",
      "\n",
      "     ODI-RUNS-S  ODI-SR-B  ...    SR-B  SIXERS  RUNS-C  WKTS  AVE-BL  ECON  \\\n",
      "30         1190     80.51  ...  151.41      22    1469    54   27.20  6.85   \n",
      "78            3    100.00  ...   58.33       0     468    11   42.55  9.36   \n",
      "101         104     42.97  ...   68.42       1    1892    74   25.57  7.75   \n",
      "127        8051     87.58  ...  131.88      67     569    23   24.74  7.02   \n",
      "\n",
      "     SR-BL  AUCTION YEAR  BASE PRICE  SOLD PRICE  \n",
      "30   23.83          2008      250000      850000  \n",
      "78   27.27          2011       50000       95000  \n",
      "101  19.78          2008      200000      875000  \n",
      "127  21.13          2011      400000     1800000  \n",
      "\n",
      "[4 rows x 26 columns]\n"
     ]
    }
   ],
   "source": [
    "# Filter rows where 'PLAYER NAME' contains the substring 'Singh'\n",
    "filtered_df = df[df['PLAYER NAME'].str.contains('Singh')]\n",
    "print(filtered_df.head())"
   ]
  },
  {
   "cell_type": "code",
   "execution_count": 29,
   "id": "5b25732f",
   "metadata": {},
   "outputs": [
    {
     "name": "stdout",
     "output_type": "stream",
     "text": [
      "       PLAYER NAME  WKTS\n",
      "1     Abdur Razzak     0\n",
      "4     Badrinath, S     0\n",
      "5       Bailey, GJ     0\n",
      "9      Boucher, MV     0\n",
      "11  Chanderpaul, S     0\n"
     ]
    }
   ],
   "source": [
    "# Filter rows where 'WKTS' is less than or equal to 10 and select 'PLAYER NAME' and 'WKTS' columns\n",
    "filtered_df = df.loc[df['WKTS'] <= 10, ['PLAYER NAME', 'WKTS']]\n",
    "print(filtered_df.head())"
   ]
  },
  {
   "cell_type": "code",
   "execution_count": 30,
   "id": "ba76fb09",
   "metadata": {},
   "outputs": [
    {
     "name": "stdout",
     "output_type": "stream",
     "text": [
      "   T-RUNS  ODI-RUNS-S  RUNS-S  RUNS-C\n",
      "0       0           0       0     307\n",
      "1     214         657       0      29\n",
      "2     571        1269     167    1059\n",
      "3     284         241      58    1125\n",
      "4      63          79    1317       0\n"
     ]
    }
   ],
   "source": [
    "# Filter columns that contain the substring 'RUNS'\n",
    "filtered_columns = df.filter(like='RUNS')\n",
    "print(filtered_columns.head())"
   ]
  },
  {
   "cell_type": "code",
   "execution_count": 31,
   "id": "2d029169",
   "metadata": {},
   "outputs": [
    {
     "name": "stdout",
     "output_type": "stream",
     "text": [
      "Empty DataFrame\n",
      "Columns: [Sl.NO., PLAYER NAME, AGE, COUNTRY, TEAM, PLAYING ROLE, T-RUNS, T-WKTS, ODI-RUNS-S, ODI-SR-B, ODI-WKTS, ODI-SR-BL, CAPTAINCY EXP, RUNS-S, HS, AVE, SR-B, SIXERS, RUNS-C, WKTS, AVE-BL, ECON, SR-BL, AUCTION YEAR, BASE PRICE, SOLD PRICE]\n",
      "Index: []\n",
      "\n",
      "[0 rows x 26 columns]\n"
     ]
    }
   ],
   "source": [
    "# Filter rows where 'WKTS' is less than or equal to 10 and 'AGE' is greater than 30\n",
    "filtered_df = df.query('WKTS <= 10 and AGE > 30')\n",
    "print(filtered_df.head())"
   ]
  },
  {
   "cell_type": "code",
   "execution_count": 33,
   "id": "66fdb263",
   "metadata": {},
   "outputs": [
    {
     "name": "stdout",
     "output_type": "stream",
     "text": [
      "     Sl.NO.        PLAYER NAME  AGE COUNTRY   TEAM PLAYING ROLE  T-RUNS  \\\n",
      "111     112      Tendulkar, SR    3     IND     MI      Batsman   15470   \n",
      "18       19         Dravid, RS    3     IND   RCB+      Batsman   13288   \n",
      "86       87        Ponting, RT    3     AUS    KKR      Batsman   13218   \n",
      "44       45         Kallis, JH    3      SA    RCB   Allrounder   12379   \n",
      "42       43  Jayawardena, DPMD    2      SL  KXIP+      Batsman   10440   \n",
      "\n",
      "     T-WKTS  ODI-RUNS-S  ODI-SR-B  ...    SR-B  SIXERS  RUNS-C  WKTS  AVE-BL  \\\n",
      "111      45       18426     86.23  ...  119.22      24      58     0    0.00   \n",
      "18        1       10889     71.24  ...  116.88      23       0     0    0.00   \n",
      "86        5       13704     80.39  ...   73.58       1       0     0    0.00   \n",
      "44      276       11498     72.97  ...  110.95      37    1713    45   38.07   \n",
      "42        6       10596     78.08  ...  128.02      33       0     0    0.00   \n",
      "\n",
      "     ECON  SR-BL  AUCTION YEAR  BASE PRICE  SOLD PRICE  \n",
      "111  9.67   0.00          2011      400000     1800000  \n",
      "18   0.00   0.00          2011      400000      500000  \n",
      "86   0.00   0.00          2008      335000      400000  \n",
      "44   7.96  28.71          2008      225000      900000  \n",
      "42   0.00   0.00          2008      250000      475000  \n",
      "\n",
      "[5 rows x 26 columns]\n",
      "    Sl.NO.  PLAYER NAME  AGE COUNTRY  TEAM PLAYING ROLE  T-RUNS  T-WKTS  \\\n",
      "0        1  Abdulla, YA    2      SA  KXIP   Allrounder       0       0   \n",
      "5        6   Bailey, GJ    2     AUS   CSK      Batsman       0       0   \n",
      "14      15    Dhawan, S    2     IND   MI+      Batsman       0       0   \n",
      "17      18    Dinda, AB    2     IND  KKR+       Bowler       0       0   \n",
      "29      30     Gony, MS    2     IND  CSK+       Bowler       0       0   \n",
      "\n",
      "    ODI-RUNS-S  ODI-SR-B  ...    SR-B  SIXERS  RUNS-C  WKTS  AVE-BL  ECON  \\\n",
      "0            0      0.00  ...    0.00       0     307    15   20.47  8.90   \n",
      "5          172     72.26  ...   95.45       0       0     0    0.00  0.00   \n",
      "14          69     56.09  ...  122.32      36      66     4   16.50  8.25   \n",
      "17          18     60.00  ...   33.33       0     926    36   25.72  7.29   \n",
      "29           0      0.00  ...  117.39       5     999    30   33.30  8.47   \n",
      "\n",
      "    SR-BL  AUCTION YEAR  BASE PRICE  SOLD PRICE  \n",
      "0   13.93          2009       50000       50000  \n",
      "5    0.00          2009       50000       50000  \n",
      "14  12.00          2011      100000      300000  \n",
      "17  21.19          2011      100000      375000  \n",
      "29  23.60          2011       50000      290000  \n",
      "\n",
      "[5 rows x 26 columns]\n"
     ]
    }
   ],
   "source": [
    "# Get the top 5 rows with the largest 'RUNS' values\n",
    "top_runs = df.nlargest(5, 'T-RUNS')\n",
    "print(top_runs)\n",
    "\n",
    "# Get the top 5 rows with the smallest 'RUNS' values\n",
    "bottom_runs = df.nsmallest(5, 'T-RUNS')\n",
    "print(bottom_runs)"
   ]
  },
  {
   "cell_type": "code",
   "execution_count": 34,
   "id": "03007347",
   "metadata": {},
   "outputs": [
    {
     "name": "stdout",
     "output_type": "stream",
     "text": [
      "       PLAYER NAME  WKTS\n",
      "1     Abdur Razzak     0\n",
      "4     Badrinath, S     0\n",
      "5       Bailey, GJ     0\n",
      "9      Boucher, MV     0\n",
      "11  Chanderpaul, S     0\n",
      "   Sl.NO.   PLAYER NAME  AGE\n",
      "0       1   Abdulla, YA    2\n",
      "1       2  Abdur Razzak    2\n",
      "2       3   Agarkar, AB    2\n",
      "3       4     Ashwin, R    1\n",
      "4       5  Badrinath, S    2\n"
     ]
    }
   ],
   "source": [
    "# Using loc to filter rows and select specific columns\n",
    "filtered_df = df.loc[df['WKTS'] <= 10, ['PLAYER NAME', 'WKTS']]\n",
    "print(filtered_df.head())\n",
    "\n",
    "# Using iloc to select rows and columns by index positions\n",
    "subset_df = df.iloc[:5, [0, 1, 2]]\n",
    "print(subset_df)"
   ]
  },
  {
   "cell_type": "code",
   "execution_count": 35,
   "id": "619feddb",
   "metadata": {},
   "outputs": [
    {
     "name": "stdout",
     "output_type": "stream",
     "text": [
      "   Sl.NO.   PLAYER NAME  AGE COUNTRY  TEAM PLAYING ROLE  T-RUNS  T-WKTS  \\\n",
      "0       1   Abdulla, YA    2      SA  KXIP   Allrounder       0       0   \n",
      "1       2  Abdur Razzak    2     BAN   RCB       Bowler     214      18   \n",
      "2       3   Agarkar, AB    2     IND   KKR       Bowler     571      58   \n",
      "3       4     Ashwin, R    1     IND   CSK       Bowler     284      31   \n",
      "\n",
      "   ODI-RUNS-S  ODI-SR-B  ...    SR-B  SIXERS  RUNS-C  WKTS  AVE-BL   ECON  \\\n",
      "0           0      0.00  ...    0.00       0     307    15   20.47   8.90   \n",
      "1         657     71.41  ...    0.00       0      29     0    0.00  14.50   \n",
      "2        1269     80.62  ...  121.01       5    1059    29   36.52   8.81   \n",
      "3         241     84.56  ...   76.32       0    1125    49   22.96   6.23   \n",
      "\n",
      "   SR-BL  AUCTION YEAR  BASE PRICE  SOLD PRICE  \n",
      "0  13.93          2009       50000       50000  \n",
      "1   0.00          2008       50000       50000  \n",
      "2  24.90          2008      200000      350000  \n",
      "3  22.14          2011      100000      850000  \n",
      "\n",
      "[4 rows x 26 columns]\n"
     ]
    }
   ],
   "source": [
    "# Filter rows where 'PLAYER NAME' starts with 'A'\n",
    "filtered_df = df[df['PLAYER NAME'].str.startswith('A')]\n",
    "print(filtered_df.head())"
   ]
  },
  {
   "cell_type": "code",
   "execution_count": 36,
   "id": "71a56e6d",
   "metadata": {},
   "outputs": [
    {
     "name": "stdout",
     "output_type": "stream",
     "text": [
      "['SA' 'BAN' 'IND' 'AUS' 'WI' 'SL' 'NZ' 'ENG' 'PAK' 'ZIM']\n"
     ]
    }
   ],
   "source": [
    "# Get unique values in the 'COUNTRY' column\n",
    "unique_countries = df['COUNTRY'].unique()\n",
    "print(unique_countries)"
   ]
  },
  {
   "cell_type": "code",
   "execution_count": 37,
   "id": "079fb9a6",
   "metadata": {},
   "outputs": [
    {
     "name": "stdout",
     "output_type": "stream",
     "text": [
      "   Sl.NO.   PLAYER NAME  AGE COUNTRY  TEAM PLAYING ROLE  T-RUNS  T-WKTS  \\\n",
      "0       1   Abdulla, YA    2      SA  KXIP   Allrounder       0       0   \n",
      "1       2  Abdur Razzak    2     BAN   RCB       Bowler     214      18   \n",
      "2       3   Agarkar, AB    2     IND   KKR       Bowler     571      58   \n",
      "3       4     Ashwin, R    1     IND   CSK       Bowler     284      31   \n",
      "4       5  Badrinath, S    2     IND   CSK      Batsman      63       0   \n",
      "\n",
      "   ODI-RUNS-S  ODI-SR-B  ...    SR-B  SIXERS  RUNS-C  WKTS  AVE-BL   ECON  \\\n",
      "0           0      0.00  ...    0.00       0     307    15   20.47   8.90   \n",
      "1         657     71.41  ...    0.00       0      29     0    0.00  14.50   \n",
      "2        1269     80.62  ...  121.01       5    1059    29   36.52   8.81   \n",
      "3         241     84.56  ...   76.32       0    1125    49   22.96   6.23   \n",
      "4          79     45.93  ...  120.71      28       0     0    0.00   0.00   \n",
      "\n",
      "   SR-BL  AUCTION YEAR  BASE PRICE  SOLD PRICE  \n",
      "0  13.93          2009       50000       50000  \n",
      "1   0.00          2008       50000       50000  \n",
      "2  24.90          2008      200000      350000  \n",
      "3  22.14          2011      100000      850000  \n",
      "4   0.00          2011      100000      800000  \n",
      "\n",
      "[5 rows x 26 columns]\n"
     ]
    }
   ],
   "source": [
    "# Filter rows where 'AGE' is not null\n",
    "filtered_df = df[df['AGE'].notnull()]\n",
    "print(filtered_df.head())"
   ]
  },
  {
   "cell_type": "code",
   "execution_count": 38,
   "id": "2936cc2d",
   "metadata": {},
   "outputs": [
    {
     "name": "stdout",
     "output_type": "stream",
     "text": [
      "    Sl.NO.     PLAYER NAME  AGE COUNTRY   TEAM PLAYING ROLE  T-RUNS  T-WKTS  \\\n",
      "90      91        Saha, WP    2     IND   KKR+    W. Keeper      74       0   \n",
      "91      92  Sangakkara, KC    2      SL  KXIP+    W. Keeper    9382       0   \n",
      "92      93      Sarwan, RR    2      WI   KXIP      Batsman    5842      23   \n",
      "93      94       Sehwag, V    2     IND     DD      Batsman    8178      40   \n",
      "94      95   Shahid Afridi    2     PAK     DC   Allrounder    1716      48   \n",
      "\n",
      "    ODI-RUNS-S  ODI-SR-B  ...    SR-B  SIXERS  RUNS-C  WKTS  AVE-BL   ECON  \\\n",
      "90           4     80.00  ...  128.28      16       0     0    0.00   0.00   \n",
      "91       10472     75.75  ...  124.76      27       0     0    0.00   0.00   \n",
      "92        5644     75.76  ...   97.33       1       0     0    0.00   0.00   \n",
      "93        8090    104.68  ...  167.32      79     226     6   37.67  10.56   \n",
      "94        7040    113.87  ...  176.08       6     225     9   25.00   7.50   \n",
      "\n",
      "    SR-BL  AUCTION YEAR  BASE PRICE  SOLD PRICE  \n",
      "90   0.00          2011      100000      100000  \n",
      "91   0.00          2008      250000      700000  \n",
      "92   0.00          2008      225000      225000  \n",
      "93  21.67          2011      400000     1800000  \n",
      "94  20.00          2008      225000      675000  \n",
      "\n",
      "[5 rows x 26 columns]\n"
     ]
    }
   ],
   "source": [
    "# Filter rows where the first character of 'PLAYER NAME' is 'S'\n",
    "filtered_df = df[df['PLAYER NAME'].str[0] == 'S']\n",
    "print(filtered_df.head())"
   ]
  },
  {
   "cell_type": "code",
   "execution_count": 39,
   "id": "e8abb7d3",
   "metadata": {},
   "outputs": [
    {
     "name": "stdout",
     "output_type": "stream",
     "text": [
      "   Sl.NO.    PLAYER NAME  AGE COUNTRY  TEAM PLAYING ROLE  T-RUNS  T-WKTS  \\\n",
      "0       1    Abdulla, YA    2      SA  KXIP   Allrounder       0       0   \n",
      "1       2   Abdur Razzak    2     BAN   RCB       Bowler     214      18   \n",
      "2       3    Agarkar, AB    2     IND   KKR       Bowler     571      58   \n",
      "4       5   Badrinath, S    2     IND   CSK      Batsman      63       0   \n",
      "7       8  Bollinger, DE    2     AUS   CSK       Bowler      54      50   \n",
      "\n",
      "   ODI-RUNS-S  ODI-SR-B  ...    SR-B  SIXERS  RUNS-C  WKTS  AVE-BL   ECON  \\\n",
      "0           0      0.00  ...    0.00       0     307    15   20.47   8.90   \n",
      "1         657     71.41  ...    0.00       0      29     0    0.00  14.50   \n",
      "2        1269     80.62  ...  121.01       5    1059    29   36.52   8.81   \n",
      "4          79     45.93  ...  120.71      28       0     0    0.00   0.00   \n",
      "7          50     92.59  ...  165.88       1     693    37   18.73   7.22   \n",
      "\n",
      "   SR-BL  AUCTION YEAR  BASE PRICE  SOLD PRICE  \n",
      "0  13.93          2009       50000       50000  \n",
      "1   0.00          2008       50000       50000  \n",
      "2  24.90          2008      200000      350000  \n",
      "4   0.00          2011      100000      800000  \n",
      "7  15.57          2011      200000      700000  \n",
      "\n",
      "[5 rows x 26 columns]\n"
     ]
    }
   ],
   "source": [
    "# Filter rows where the length of 'PLAYER NAME' is greater than 10\n",
    "filtered_df = df[df['PLAYER NAME'].str.len() > 10]\n",
    "print(filtered_df.head())"
   ]
  },
  {
   "cell_type": "code",
   "execution_count": 40,
   "id": "5442a1f6",
   "metadata": {},
   "outputs": [
    {
     "name": "stdout",
     "output_type": "stream",
     "text": [
      "Empty DataFrame\n",
      "Columns: [Sl.NO., PLAYER NAME, AGE, COUNTRY, TEAM, PLAYING ROLE, T-RUNS, T-WKTS, ODI-RUNS-S, ODI-SR-B, ODI-WKTS, ODI-SR-BL, CAPTAINCY EXP, RUNS-S, HS, AVE, SR-B, SIXERS, RUNS-C, WKTS, AVE-BL, ECON, SR-BL, AUCTION YEAR, BASE PRICE, SOLD PRICE]\n",
      "Index: []\n",
      "\n",
      "[0 rows x 26 columns]\n"
     ]
    }
   ],
   "source": [
    "# Filter rows where 'AGE' is in a specific list of ages\n",
    "ages = [25, 30, 35]\n",
    "filtered_df = df[[age in ages for age in df['AGE']]]\n",
    "print(filtered_df.head())"
   ]
  },
  {
   "cell_type": "markdown",
   "id": "21330b6e",
   "metadata": {},
   "source": [
    "#### Aggregating"
   ]
  },
  {
   "cell_type": "markdown",
   "id": "9a639613",
   "metadata": {},
   "source": [
    "##### Basic Aggregation"
   ]
  },
  {
   "cell_type": "code",
   "execution_count": 41,
   "id": "4017a548",
   "metadata": {},
   "outputs": [
    {
     "name": "stdout",
     "output_type": "stream",
     "text": [
      "Total Runs: 281673\n"
     ]
    }
   ],
   "source": [
    "# Compute the sum of 'RUNS'\n",
    "print(\"Total Runs:\", df['T-RUNS'].sum())"
   ]
  },
  {
   "cell_type": "code",
   "execution_count": 42,
   "id": "4261c1f4",
   "metadata": {},
   "outputs": [
    {
     "name": "stdout",
     "output_type": "stream",
     "text": [
      "Average Age: 2.09\n"
     ]
    }
   ],
   "source": [
    "# Compute the mean (average) of 'AGE'\n",
    "print(f\"Average Age: {df['AGE'].mean():.2f}\")"
   ]
  },
  {
   "cell_type": "code",
   "execution_count": 43,
   "id": "7115804b",
   "metadata": {},
   "outputs": [
    {
     "name": "stdout",
     "output_type": "stream",
     "text": [
      "Median Age: 2.0\n"
     ]
    }
   ],
   "source": [
    "# Compute the median of 'AGE'\n",
    "print(\"Median Age:\", df['AGE'].median()) "
   ]
  },
  {
   "cell_type": "code",
   "execution_count": 15,
   "id": "9c095efd",
   "metadata": {},
   "outputs": [
    {
     "name": "stdout",
     "output_type": "stream",
     "text": [
      "Minimum Age: 1\n"
     ]
    }
   ],
   "source": [
    "# Compute the minimum value of 'AGE'\n",
    "print(\"Minimum Age:\", df['AGE'].min())"
   ]
  },
  {
   "cell_type": "code",
   "execution_count": 16,
   "id": "37b06db5",
   "metadata": {},
   "outputs": [
    {
     "name": "stdout",
     "output_type": "stream",
     "text": [
      "Maximum Age: 3\n"
     ]
    }
   ],
   "source": [
    "# Compute the maximum value of 'AGE'\n",
    "print(\"Maximum Age:\", df['AGE'].max())"
   ]
  },
  {
   "cell_type": "code",
   "execution_count": 19,
   "id": "60f07ba3",
   "metadata": {},
   "outputs": [
    {
     "name": "stdout",
     "output_type": "stream",
     "text": [
      "Count of Runs: 130\n"
     ]
    }
   ],
   "source": [
    "# Count the number of non-null values in 'RUNS'\n",
    "print(\"Count of Runs:\", df['T-RUNS'].count())"
   ]
  },
  {
   "cell_type": "code",
   "execution_count": 17,
   "id": "84b06977",
   "metadata": {},
   "outputs": [
    {
     "name": "stdout",
     "output_type": "stream",
     "text": [
      "Standard Deviation of Age: 0.5766268370815698\n"
     ]
    }
   ],
   "source": [
    "# Compute the standard deviation of 'AGE'\n",
    "print(\"Standard Deviation of Age:\", df['AGE'].std())"
   ]
  },
  {
   "cell_type": "code",
   "execution_count": 44,
   "id": "b5a690b4",
   "metadata": {},
   "outputs": [
    {
     "name": "stdout",
     "output_type": "stream",
     "text": [
      "Variance of Age: 0.3324985092426953\n"
     ]
    }
   ],
   "source": [
    "# Compute the variance of 'AGE'\n",
    "print(\"Variance of Age:\", df['AGE'].var())"
   ]
  },
  {
   "cell_type": "code",
   "execution_count": 45,
   "id": "5ac2684e",
   "metadata": {},
   "outputs": [
    {
     "name": "stdout",
     "output_type": "stream",
     "text": [
      "Descriptive Statistics of Age:\n",
      " count    130.000000\n",
      "mean       2.092308\n",
      "std        0.576627\n",
      "min        1.000000\n",
      "25%        2.000000\n",
      "50%        2.000000\n",
      "75%        2.000000\n",
      "max        3.000000\n",
      "Name: AGE, dtype: float64\n"
     ]
    }
   ],
   "source": [
    "# Generate descriptive statistics for 'AGE'\n",
    "print(\"Descriptive Statistics of Age:\\n\", df['AGE'].describe()) "
   ]
  },
  {
   "cell_type": "markdown",
   "id": "68047492",
   "metadata": {},
   "source": [
    "##### Aggregation Using GroupBy"
   ]
  },
  {
   "cell_type": "code",
   "execution_count": 47,
   "id": "544a1907",
   "metadata": {},
   "outputs": [
    {
     "name": "stdout",
     "output_type": "stream",
     "text": [
      "\n",
      "Total Runs by Country:\n",
      " COUNTRY\n",
      "AUS    45509\n",
      "BAN      214\n",
      "ENG    10499\n",
      "IND    77123\n",
      "NZ     22798\n",
      "PAK    15784\n",
      "SA     44176\n",
      "SL     38991\n",
      "WI     25033\n",
      "ZIM     1546\n",
      "Name: T-RUNS, dtype: int64\n"
     ]
    }
   ],
   "source": [
    "# Group by 'COUNTRY' and compute the sum of 'RUNS'\n",
    "print(\"\\nTotal Runs by Country:\\n\", df.groupby('COUNTRY')['T-RUNS'].sum())"
   ]
  },
  {
   "cell_type": "code",
   "execution_count": 48,
   "id": "1674a115",
   "metadata": {},
   "outputs": [
    {
     "name": "stdout",
     "output_type": "stream",
     "text": [
      "\n",
      "Aggregations by Country:\n",
      "         T-RUNS       AGE        \n",
      "           sum      mean min max\n",
      "COUNTRY                         \n",
      "AUS      45509  2.363636   1   3\n",
      "BAN        214  2.000000   2   2\n",
      "ENG      10499  2.000000   2   2\n",
      "IND      77123  1.849057   1   3\n",
      "NZ       22798  2.285714   2   3\n",
      "PAK      15784  2.222222   2   3\n",
      "SA       44176  2.312500   2   3\n",
      "SL       38991  2.166667   1   3\n",
      "WI       25033  2.166667   2   3\n",
      "ZIM       1546  2.000000   2   2\n"
     ]
    }
   ],
   "source": [
    "# Group by 'COUNTRY' and apply multiple aggregation functions\n",
    "print(\"\\nAggregations by Country:\\n\", df.groupby('COUNTRY').agg({\n",
    "    'T-RUNS': 'sum',  # Sum of 'RUNS'\n",
    "    'AGE': ['mean', 'min', 'max']  # Mean, min, and max of 'AGE'\n",
    "}))"
   ]
  },
  {
   "cell_type": "markdown",
   "id": "a3b64454",
   "metadata": {},
   "source": [
    "#####  Aggregation with `pivot_table()`"
   ]
  },
  {
   "cell_type": "code",
   "execution_count": 5,
   "id": "5a36b5e2",
   "metadata": {},
   "outputs": [
    {
     "name": "stdout",
     "output_type": "stream",
     "text": [
      "\n",
      "Pivot Table of Runs:\n",
      " PLAYING ROLE  Allrounder  Batsman  Bowler  W. Keeper\n",
      "COUNTRY                                             \n",
      "AUS               1569.0  32871.0  5499.0     5570.0\n",
      "BAN                  NaN      NaN   214.0        NaN\n",
      "ENG               3845.0   6654.0     NaN        NaN\n",
      "IND               3054.0  60304.0  8499.0     5266.0\n",
      "NZ                9121.0   9914.0     NaN     3763.0\n",
      "PAK               3322.0   8571.0  1243.0     2648.0\n",
      "SA               16301.0  14863.0  2040.0    10972.0\n",
      "SL               13470.0  10977.0  5162.0     9382.0\n",
      "WI                8893.0  15760.0   380.0        NaN\n",
      "ZIM                  NaN      NaN     NaN     1546.0\n"
     ]
    }
   ],
   "source": [
    "# Create a pivot table with 'COUNTRY' as index, 'PLAYING ROLE' as columns, and sum of 'RUNS'\n",
    "print(\"\\nPivot Table of Runs:\\n\", df.pivot_table(\n",
    "    values='T-RUNS',\n",
    "    index='COUNTRY',\n",
    "    columns='PLAYING ROLE',\n",
    "    aggfunc='sum'\n",
    "))  \n"
   ]
  },
  {
   "cell_type": "markdown",
   "id": "db4c7abc",
   "metadata": {},
   "source": [
    "##### Aggregation with `resample()` (for time-series data)"
   ]
  },
  {
   "cell_type": "code",
   "execution_count": 10,
   "id": "cff07156",
   "metadata": {},
   "outputs": [
    {
     "name": "stdout",
     "output_type": "stream",
     "text": [
      "              Sl.NO.                                        PLAYER NAME  AGE  \\\n",
      "AUCTION YEAR                                                                   \n",
      "1970-01-31      8515  Abdur RazzakAgarkar, ABBoucher, MVChanderpaul,...  272   \n",
      "\n",
      "                                                        COUNTRY  \\\n",
      "AUCTION YEAR                                                      \n",
      "1970-01-31    BANINDSAWIINDSAINDSLSLNZINDWISAAUSINDAUSAUSAUS...   \n",
      "\n",
      "                                                           TEAM  \\\n",
      "AUCTION YEAR                                                      \n",
      "1970-01-31    RCBKKRRCB+RCBKXIPDD+CSKDD+MICSKDD+KKR+DCDC+MIC...   \n",
      "\n",
      "                                                   PLAYING ROLE  T-RUNS  \\\n",
      "AUCTION YEAR                                                              \n",
      "1970-01-31    BowlerBowlerW. KeeperBatsmanAllrounderW. Keepe...  281673   \n",
      "\n",
      "              T-WKTS  ODI-RUNS-S  ODI-SR-B  ...      AVE      SR-B  SIXERS  \\\n",
      "AUCTION YEAR                                ...                              \n",
      "1970-01-31      8649      326136   9251.37  ...  2433.51  14436.95    2300   \n",
      "\n",
      "              RUNS-C  WKTS   AVE-BL    ECON    SR-BL  BASE PRICE  SOLD PRICE  \n",
      "AUCTION YEAR                                                                  \n",
      "1970-01-31     61818  2232  3004.33  806.58  2259.74    24990000    67759000  \n",
      "\n",
      "[1 rows x 25 columns]\n"
     ]
    }
   ],
   "source": [
    "df['AUCTION YEAR'] = pd.to_datetime(df['AUCTION YEAR'])\n",
    "resampled_df = df.set_index('AUCTION YEAR').resample('ME').sum()\n",
    "print(resampled_df.head())"
   ]
  },
  {
   "cell_type": "markdown",
   "id": "cf2fd183",
   "metadata": {},
   "source": [
    "##### Aggregation with `apply()`"
   ]
  },
  {
   "cell_type": "code",
   "execution_count": 12,
   "id": "065788ac",
   "metadata": {},
   "outputs": [
    {
     "name": "stdout",
     "output_type": "stream",
     "text": [
      "\n",
      "Custom Aggregation with Apply:\n",
      " COUNTRY\n",
      "AUS    45509\n",
      "BAN      214\n",
      "ENG    10499\n",
      "IND    77123\n",
      "NZ     22798\n",
      "PAK    15784\n",
      "SA     44176\n",
      "SL     38991\n",
      "WI     25033\n",
      "ZIM     1546\n",
      "dtype: int64\n"
     ]
    },
    {
     "name": "stderr",
     "output_type": "stream",
     "text": [
      "C:\\Users\\premd\\AppData\\Local\\Temp\\ipykernel_29600\\3120976400.py:2: DeprecationWarning: DataFrameGroupBy.apply operated on the grouping columns. This behavior is deprecated, and in a future version of pandas the grouping columns will be excluded from the operation. Either pass `include_groups=False` to exclude the groupings or explicitly select the grouping columns after groupby to silence this warning.\n",
      "  print(\"\\nCustom Aggregation with Apply:\\n\", df.groupby('COUNTRY').apply(lambda x: x['T-RUNS'].sum()))\n"
     ]
    }
   ],
   "source": [
    "# Apply a custom aggregation function to compute the sum of 'RUNS' by 'COUNTRY'\n",
    "print(\"\\nCustom Aggregation with Apply:\\n\", df.groupby('COUNTRY').apply(lambda x: x['T-RUNS'].sum()))"
   ]
  },
  {
   "cell_type": "markdown",
   "id": "73ef7ae0",
   "metadata": {},
   "source": [
    "##### Aggregation with `transform()`"
   ]
  },
  {
   "cell_type": "code",
   "execution_count": 13,
   "id": "908f37f0",
   "metadata": {},
   "outputs": [
    {
     "name": "stdout",
     "output_type": "stream",
     "text": [
      "\n",
      "Transformed Runs by Country:\n",
      " 0      2761.000000\n",
      "1       214.000000\n",
      "2      1455.150943\n",
      "3      1455.150943\n",
      "4      1455.150943\n",
      "          ...     \n",
      "125    1455.150943\n",
      "126    1753.777778\n",
      "127    1455.150943\n",
      "128    1455.150943\n",
      "129    3249.250000\n",
      "Name: T-RUNS, Length: 130, dtype: float64\n"
     ]
    }
   ],
   "source": [
    "# Apply a transformation to get the mean of 'RUNS' by 'COUNTRY'\n",
    "print(\"\\nTransformed Runs by Country:\\n\", df.groupby('COUNTRY')['T-RUNS'].transform('mean'))"
   ]
  },
  {
   "cell_type": "markdown",
   "id": "7a5dd655",
   "metadata": {},
   "source": [
    "##### Aggregation with `agg()`"
   ]
  },
  {
   "cell_type": "code",
   "execution_count": 14,
   "id": "3ec19185",
   "metadata": {},
   "outputs": [
    {
     "name": "stdout",
     "output_type": "stream",
     "text": [
      "\n",
      "Custom Aggregations with agg:\n",
      "              T-RUNS  AGE\n",
      "sum   281673.000000  NaN\n",
      "mean    2166.715385  NaN\n",
      "min             NaN  1.0\n",
      "max             NaN  3.0\n"
     ]
    }
   ],
   "source": [
    "# Apply multiple aggregation functions using `agg()`\n",
    "print(\"\\nCustom Aggregations with agg:\\n\", df.agg({\n",
    "    'T-RUNS': ['sum', 'mean'],  # Sum and mean of 'RUNS'\n",
    "    'AGE': ['min', 'max']  # Min and max of 'AGE'\n",
    "}))"
   ]
  },
  {
   "cell_type": "markdown",
   "id": "65c41de0",
   "metadata": {},
   "source": [
    "##### Aggregation with `crosstab()`"
   ]
  },
  {
   "cell_type": "code",
   "execution_count": 15,
   "id": "07e7a4eb",
   "metadata": {},
   "outputs": [
    {
     "name": "stdout",
     "output_type": "stream",
     "text": [
      "\n",
      "Cross Tabulation of Country and Playing Role:\n",
      " PLAYING ROLE  Allrounder  Batsman  Bowler  W. Keeper\n",
      "COUNTRY                                             \n",
      "AUS                    6        9       6          1\n",
      "BAN                    0        0       1          0\n",
      "ENG                    2        1       0          0\n",
      "IND                    7       18      23          5\n",
      "NZ                     4        2       0          1\n",
      "PAK                    2        2       4          1\n",
      "SA                     7        3       4          2\n",
      "SL                     4        2       5          1\n",
      "WI                     3        2       1          0\n",
      "ZIM                    0        0       0          1\n"
     ]
    }
   ],
   "source": [
    "# Compute a cross-tabulation of 'COUNTRY' and 'PLAYING ROLE'\n",
    "print(\"\\nCross Tabulation of Country and Playing Role:\\n\", pd.crosstab(df['COUNTRY'], df['PLAYING ROLE']))"
   ]
  },
  {
   "cell_type": "markdown",
   "id": "32ba6aa6",
   "metadata": {},
   "source": [
    "### PS03 - Displaying First Few Records"
   ]
  },
  {
   "cell_type": "code",
   "execution_count": null,
   "id": "ec059bbe",
   "metadata": {},
   "outputs": [],
   "source": [
    "# The first and last 5 rows will be shown by default\n",
    "df"
   ]
  },
  {
   "cell_type": "code",
   "execution_count": null,
   "id": "91f69cec",
   "metadata": {},
   "outputs": [],
   "source": [
    "# Prints from first\n",
    "df.head(8)\n",
    "\n",
    "# Prints from last\n",
    "df.tail(8) "
   ]
  },
  {
   "cell_type": "markdown",
   "id": "1d52cd62",
   "metadata": {},
   "source": [
    "### PS04 - Finding Summary of the DataFrame"
   ]
  },
  {
   "cell_type": "code",
   "execution_count": 16,
   "id": "59958d56",
   "metadata": {},
   "outputs": [
    {
     "name": "stdout",
     "output_type": "stream",
     "text": [
      "Summary using describe():\n",
      "           Sl.NO.         AGE        T-RUNS      T-WKTS    ODI-RUNS-S  \\\n",
      "count  130.000000  130.000000    130.000000  130.000000    130.000000   \n",
      "mean    65.500000    2.092308   2166.715385   66.530769   2508.738462   \n",
      "min      1.000000    1.000000      0.000000    0.000000      0.000000   \n",
      "25%     33.250000    2.000000     25.500000    0.000000     73.250000   \n",
      "50%     65.500000    2.000000    542.500000    7.000000    835.000000   \n",
      "75%     97.750000    2.000000   3002.250000   47.500000   3523.500000   \n",
      "max    130.000000    3.000000  15470.000000  800.000000  18426.000000   \n",
      "std     37.671829    0.576627   3305.646757  142.676855   3582.205625   \n",
      "\n",
      "         ODI-SR-B    ODI-WKTS   ODI-SR-BL  CAPTAINCY EXP       RUNS-S  ...  \\\n",
      "count  130.000000  130.000000  130.000000     130.000000   130.000000  ...   \n",
      "mean    71.164385   76.076923   34.033846       0.315385   514.246154  ...   \n",
      "min      0.000000    0.000000    0.000000       0.000000     0.000000  ...   \n",
      "25%     65.650000    0.000000    0.000000       0.000000    39.000000  ...   \n",
      "50%     78.225000   18.500000   36.600000       0.000000   172.000000  ...   \n",
      "75%     86.790000  106.000000   45.325000       1.000000   925.250000  ...   \n",
      "max    116.660000  534.000000  150.000000       1.000000  2254.000000  ...   \n",
      "std     25.898440  111.205070   26.751749       0.466466   615.226335  ...   \n",
      "\n",
      "             SR-B      SIXERS       RUNS-C        WKTS      AVE-BL  \\\n",
      "count  130.000000  130.000000   130.000000  130.000000  130.000000   \n",
      "mean   111.053462   17.692308   475.523077   17.169231   23.110231   \n",
      "min      0.000000    0.000000     0.000000    0.000000    0.000000   \n",
      "25%     98.237500    1.000000     0.000000    0.000000    0.000000   \n",
      "50%    118.510000    6.000000   297.000000    8.500000   24.785000   \n",
      "75%    129.102500   29.750000   689.250000   23.750000   35.580000   \n",
      "max    235.490000  129.000000  1975.000000   83.000000  126.300000   \n",
      "std     35.928907   23.828146   558.314049   21.816763   20.802057   \n",
      "\n",
      "             ECON       SR-BL                   AUCTION YEAR    BASE PRICE  \\\n",
      "count  130.000000  130.000000                            130  1.300000e+02   \n",
      "mean     6.204462   17.382615  1970-01-01 00:00:00.000002009  1.922308e+05   \n",
      "min      0.000000    0.000000  1970-01-01 00:00:00.000002008  2.000000e+04   \n",
      "25%      0.000000    0.000000  1970-01-01 00:00:00.000002008  1.000000e+05   \n",
      "50%      7.380000   19.935000  1970-01-01 00:00:00.000002008  2.000000e+05   \n",
      "75%      8.247500   26.212500  1970-01-01 00:00:00.000002011  2.250000e+05   \n",
      "max     38.110000  100.200000  1970-01-01 00:00:00.000002011  1.350000e+06   \n",
      "std      4.941531   15.273422                            NaN  1.530973e+05   \n",
      "\n",
      "         SOLD PRICE  \n",
      "count  1.300000e+02  \n",
      "mean   5.212231e+05  \n",
      "min    2.000000e+04  \n",
      "25%    2.250000e+05  \n",
      "50%    4.375000e+05  \n",
      "75%    7.000000e+05  \n",
      "max    1.800000e+06  \n",
      "std    4.068074e+05  \n",
      "\n",
      "[8 rows x 22 columns]\n"
     ]
    }
   ],
   "source": [
    "# 1. Summary using describe()\n",
    "print(\"Summary using describe():\")\n",
    "print(df.describe())"
   ]
  },
  {
   "cell_type": "code",
   "execution_count": 18,
   "id": "59e3f25d",
   "metadata": {},
   "outputs": [
    {
     "name": "stdout",
     "output_type": "stream",
     "text": [
      "\n",
      "Summary of specific columns (AGE and RUNS) using describe():\n",
      "              AGE        T-RUNS\n",
      "count  130.000000    130.000000\n",
      "mean     2.092308   2166.715385\n",
      "std      0.576627   3305.646757\n",
      "min      1.000000      0.000000\n",
      "25%      2.000000     25.500000\n",
      "50%      2.000000    542.500000\n",
      "75%      2.000000   3002.250000\n",
      "max      3.000000  15470.000000\n"
     ]
    }
   ],
   "source": [
    "# 2. Summary of specific columns using describe()\n",
    "print(\"\\nSummary of specific columns (AGE and RUNS) using describe():\")\n",
    "print(df[['AGE', 'T-RUNS']].describe()) "
   ]
  },
  {
   "cell_type": "code",
   "execution_count": 19,
   "id": "31820dc1",
   "metadata": {},
   "outputs": [
    {
     "name": "stdout",
     "output_type": "stream",
     "text": [
      "\n",
      "Summary including all columns using describe(include='all'):\n",
      "            Sl.NO.  PLAYER NAME         AGE COUNTRY TEAM PLAYING ROLE  \\\n",
      "count   130.000000          130  130.000000     130  130          130   \n",
      "unique         NaN          130         NaN      10   17            4   \n",
      "top            NaN  Abdulla, YA         NaN     IND  CSK       Bowler   \n",
      "freq           NaN            1         NaN      53   14           44   \n",
      "mean     65.500000          NaN    2.092308     NaN  NaN          NaN   \n",
      "min       1.000000          NaN    1.000000     NaN  NaN          NaN   \n",
      "25%      33.250000          NaN    2.000000     NaN  NaN          NaN   \n",
      "50%      65.500000          NaN    2.000000     NaN  NaN          NaN   \n",
      "75%      97.750000          NaN    2.000000     NaN  NaN          NaN   \n",
      "max     130.000000          NaN    3.000000     NaN  NaN          NaN   \n",
      "std      37.671829          NaN    0.576627     NaN  NaN          NaN   \n",
      "\n",
      "              T-RUNS      T-WKTS    ODI-RUNS-S    ODI-SR-B  ...        SR-B  \\\n",
      "count     130.000000  130.000000    130.000000  130.000000  ...  130.000000   \n",
      "unique           NaN         NaN           NaN         NaN  ...         NaN   \n",
      "top              NaN         NaN           NaN         NaN  ...         NaN   \n",
      "freq             NaN         NaN           NaN         NaN  ...         NaN   \n",
      "mean     2166.715385   66.530769   2508.738462   71.164385  ...  111.053462   \n",
      "min         0.000000    0.000000      0.000000    0.000000  ...    0.000000   \n",
      "25%        25.500000    0.000000     73.250000   65.650000  ...   98.237500   \n",
      "50%       542.500000    7.000000    835.000000   78.225000  ...  118.510000   \n",
      "75%      3002.250000   47.500000   3523.500000   86.790000  ...  129.102500   \n",
      "max     15470.000000  800.000000  18426.000000  116.660000  ...  235.490000   \n",
      "std      3305.646757  142.676855   3582.205625   25.898440  ...   35.928907   \n",
      "\n",
      "            SIXERS       RUNS-C        WKTS      AVE-BL        ECON  \\\n",
      "count   130.000000   130.000000  130.000000  130.000000  130.000000   \n",
      "unique         NaN          NaN         NaN         NaN         NaN   \n",
      "top            NaN          NaN         NaN         NaN         NaN   \n",
      "freq           NaN          NaN         NaN         NaN         NaN   \n",
      "mean     17.692308   475.523077   17.169231   23.110231    6.204462   \n",
      "min       0.000000     0.000000    0.000000    0.000000    0.000000   \n",
      "25%       1.000000     0.000000    0.000000    0.000000    0.000000   \n",
      "50%       6.000000   297.000000    8.500000   24.785000    7.380000   \n",
      "75%      29.750000   689.250000   23.750000   35.580000    8.247500   \n",
      "max     129.000000  1975.000000   83.000000  126.300000   38.110000   \n",
      "std      23.828146   558.314049   21.816763   20.802057    4.941531   \n",
      "\n",
      "             SR-BL                   AUCTION YEAR    BASE PRICE    SOLD PRICE  \n",
      "count   130.000000                            130  1.300000e+02  1.300000e+02  \n",
      "unique         NaN                            NaN           NaN           NaN  \n",
      "top            NaN                            NaN           NaN           NaN  \n",
      "freq           NaN                            NaN           NaN           NaN  \n",
      "mean     17.382615  1970-01-01 00:00:00.000002009  1.922308e+05  5.212231e+05  \n",
      "min       0.000000  1970-01-01 00:00:00.000002008  2.000000e+04  2.000000e+04  \n",
      "25%       0.000000  1970-01-01 00:00:00.000002008  1.000000e+05  2.250000e+05  \n",
      "50%      19.935000  1970-01-01 00:00:00.000002008  2.000000e+05  4.375000e+05  \n",
      "75%      26.212500  1970-01-01 00:00:00.000002011  2.250000e+05  7.000000e+05  \n",
      "max     100.200000  1970-01-01 00:00:00.000002011  1.350000e+06  1.800000e+06  \n",
      "std      15.273422                            NaN  1.530973e+05  4.068074e+05  \n",
      "\n",
      "[11 rows x 26 columns]\n"
     ]
    }
   ],
   "source": [
    "# 3. Summary including all columns\n",
    "print(\"\\nSummary including all columns using describe(include='all'):\")\n",
    "print(df.describe(include='all'))"
   ]
  },
  {
   "cell_type": "code",
   "execution_count": 20,
   "id": "998d3c72",
   "metadata": {},
   "outputs": [
    {
     "name": "stdout",
     "output_type": "stream",
     "text": [
      "\n",
      "Summary using info():\n",
      "<class 'pandas.core.frame.DataFrame'>\n",
      "RangeIndex: 130 entries, 0 to 129\n",
      "Data columns (total 26 columns):\n",
      " #   Column         Non-Null Count  Dtype         \n",
      "---  ------         --------------  -----         \n",
      " 0   Sl.NO.         130 non-null    int64         \n",
      " 1   PLAYER NAME    130 non-null    object        \n",
      " 2   AGE            130 non-null    int64         \n",
      " 3   COUNTRY        130 non-null    object        \n",
      " 4   TEAM           130 non-null    object        \n",
      " 5   PLAYING ROLE   130 non-null    object        \n",
      " 6   T-RUNS         130 non-null    int64         \n",
      " 7   T-WKTS         130 non-null    int64         \n",
      " 8   ODI-RUNS-S     130 non-null    int64         \n",
      " 9   ODI-SR-B       130 non-null    float64       \n",
      " 10  ODI-WKTS       130 non-null    int64         \n",
      " 11  ODI-SR-BL      130 non-null    float64       \n",
      " 12  CAPTAINCY EXP  130 non-null    int64         \n",
      " 13  RUNS-S         130 non-null    int64         \n",
      " 14  HS             130 non-null    int64         \n",
      " 15  AVE            130 non-null    float64       \n",
      " 16  SR-B           130 non-null    float64       \n",
      " 17  SIXERS         130 non-null    int64         \n",
      " 18  RUNS-C         130 non-null    int64         \n",
      " 19  WKTS           130 non-null    int64         \n",
      " 20  AVE-BL         130 non-null    float64       \n",
      " 21  ECON           130 non-null    float64       \n",
      " 22  SR-BL          130 non-null    float64       \n",
      " 23  AUCTION YEAR   130 non-null    datetime64[ns]\n",
      " 24  BASE PRICE     130 non-null    int64         \n",
      " 25  SOLD PRICE     130 non-null    int64         \n",
      "dtypes: datetime64[ns](1), float64(7), int64(14), object(4)\n",
      "memory usage: 26.5+ KB\n"
     ]
    }
   ],
   "source": [
    "# 4. Summary using info() including index dtype and non-null values\n",
    "print(\"\\nSummary using info():\")\n",
    "df.info() "
   ]
  },
  {
   "cell_type": "code",
   "execution_count": 21,
   "id": "2ea90c49",
   "metadata": {},
   "outputs": [
    {
     "name": "stdout",
     "output_type": "stream",
     "text": [
      "\n",
      "Summary using shape:\n",
      "(130, 26)\n"
     ]
    }
   ],
   "source": [
    "# 5. Summary using shape\n",
    "print(\"\\nSummary using shape:\")\n",
    "print(df.shape)  # Tuple representing dimensionality of the DataFrame"
   ]
  },
  {
   "cell_type": "code",
   "execution_count": 22,
   "id": "54dbeb2d",
   "metadata": {},
   "outputs": [
    {
     "name": "stdout",
     "output_type": "stream",
     "text": [
      "\n",
      "Summary of memory usage using memory_usage():\n",
      "Index             132\n",
      "Sl.NO.           1040\n",
      "PLAYER NAME      1040\n",
      "AGE              1040\n",
      "COUNTRY          1040\n",
      "TEAM             1040\n",
      "PLAYING ROLE     1040\n",
      "T-RUNS           1040\n",
      "T-WKTS           1040\n",
      "ODI-RUNS-S       1040\n",
      "ODI-SR-B         1040\n",
      "ODI-WKTS         1040\n",
      "ODI-SR-BL        1040\n",
      "CAPTAINCY EXP    1040\n",
      "RUNS-S           1040\n",
      "HS               1040\n",
      "AVE              1040\n",
      "SR-B             1040\n",
      "SIXERS           1040\n",
      "RUNS-C           1040\n",
      "WKTS             1040\n",
      "AVE-BL           1040\n",
      "ECON             1040\n",
      "SR-BL            1040\n",
      "AUCTION YEAR     1040\n",
      "BASE PRICE       1040\n",
      "SOLD PRICE       1040\n",
      "dtype: int64\n"
     ]
    }
   ],
   "source": [
    "# 8. Summary of memory usage\n",
    "print(\"\\nSummary of memory usage using memory_usage():\")\n",
    "print(df.memory_usage())  # Memory usage of each column"
   ]
  },
  {
   "cell_type": "code",
   "execution_count": 23,
   "id": "44a792a2",
   "metadata": {},
   "outputs": [
    {
     "name": "stdout",
     "output_type": "stream",
     "text": [
      "\n",
      "Summary of value counts for 'COUNTRY':\n",
      "COUNTRY\n",
      "IND    53\n",
      "AUS    22\n",
      "SA     16\n",
      "SL     12\n",
      "PAK     9\n",
      "NZ      7\n",
      "WI      6\n",
      "ENG     3\n",
      "BAN     1\n",
      "ZIM     1\n",
      "Name: count, dtype: int64\n"
     ]
    }
   ],
   "source": [
    "# 9. Summary using value_counts() for a specific column\n",
    "print(\"\\nSummary of value counts for 'COUNTRY':\")\n",
    "print(df['COUNTRY'].value_counts())"
   ]
  },
  {
   "cell_type": "code",
   "execution_count": 24,
   "id": "379334b0",
   "metadata": {},
   "outputs": [
    {
     "name": "stdout",
     "output_type": "stream",
     "text": [
      "\n",
      "Summary of number of unique values using nunique():\n",
      "Sl.NO.           130\n",
      "PLAYER NAME      130\n",
      "AGE                3\n",
      "COUNTRY           10\n",
      "TEAM              17\n",
      "PLAYING ROLE       4\n",
      "T-RUNS           103\n",
      "T-WKTS            60\n",
      "ODI-RUNS-S       117\n",
      "ODI-SR-B         118\n",
      "ODI-WKTS          74\n",
      "ODI-SR-BL         82\n",
      "CAPTAINCY EXP      2\n",
      "RUNS-S           115\n",
      "HS                73\n",
      "AVE              113\n",
      "SR-B             125\n",
      "SIXERS            48\n",
      "RUNS-C            92\n",
      "WKTS              51\n",
      "AVE-BL            88\n",
      "ECON              83\n",
      "SR-BL             82\n",
      "AUCTION YEAR       4\n",
      "BASE PRICE        17\n",
      "SOLD PRICE        53\n",
      "dtype: int64\n"
     ]
    }
   ],
   "source": [
    "# 10. Summary using nunique() for number of unique values\n",
    "print(\"\\nSummary of number of unique values using nunique():\")\n",
    "print(df.nunique())"
   ]
  },
  {
   "cell_type": "code",
   "execution_count": 25,
   "id": "ebbd13d3",
   "metadata": {},
   "outputs": [
    {
     "name": "stdout",
     "output_type": "stream",
     "text": [
      "\n",
      "Summary of data types using dtypes:\n",
      "Sl.NO.                    int64\n",
      "PLAYER NAME              object\n",
      "AGE                       int64\n",
      "COUNTRY                  object\n",
      "TEAM                     object\n",
      "PLAYING ROLE             object\n",
      "T-RUNS                    int64\n",
      "T-WKTS                    int64\n",
      "ODI-RUNS-S                int64\n",
      "ODI-SR-B                float64\n",
      "ODI-WKTS                  int64\n",
      "ODI-SR-BL               float64\n",
      "CAPTAINCY EXP             int64\n",
      "RUNS-S                    int64\n",
      "HS                        int64\n",
      "AVE                     float64\n",
      "SR-B                    float64\n",
      "SIXERS                    int64\n",
      "RUNS-C                    int64\n",
      "WKTS                      int64\n",
      "AVE-BL                  float64\n",
      "ECON                    float64\n",
      "SR-BL                   float64\n",
      "AUCTION YEAR     datetime64[ns]\n",
      "BASE PRICE                int64\n",
      "SOLD PRICE                int64\n",
      "dtype: object\n"
     ]
    }
   ],
   "source": [
    "# 11. Summary using dtypes\n",
    "print(\"\\nSummary of data types using dtypes:\")\n",
    "print(df.dtypes) "
   ]
  },
  {
   "cell_type": "code",
   "execution_count": 26,
   "id": "718816c5",
   "metadata": {},
   "outputs": [
    {
     "name": "stdout",
     "output_type": "stream",
     "text": [
      "\n",
      "Summary of missing values using isna().sum():\n",
      "Sl.NO.           0\n",
      "PLAYER NAME      0\n",
      "AGE              0\n",
      "COUNTRY          0\n",
      "TEAM             0\n",
      "PLAYING ROLE     0\n",
      "T-RUNS           0\n",
      "T-WKTS           0\n",
      "ODI-RUNS-S       0\n",
      "ODI-SR-B         0\n",
      "ODI-WKTS         0\n",
      "ODI-SR-BL        0\n",
      "CAPTAINCY EXP    0\n",
      "RUNS-S           0\n",
      "HS               0\n",
      "AVE              0\n",
      "SR-B             0\n",
      "SIXERS           0\n",
      "RUNS-C           0\n",
      "WKTS             0\n",
      "AVE-BL           0\n",
      "ECON             0\n",
      "SR-BL            0\n",
      "AUCTION YEAR     0\n",
      "BASE PRICE       0\n",
      "SOLD PRICE       0\n",
      "dtype: int64\n"
     ]
    }
   ],
   "source": [
    "# 12. Summary using isna().sum() for missing values\n",
    "# Number of missing values in each column\n",
    "print(\"\\nSummary of missing values using isna().sum():\")\n",
    "print(df.isna().sum())"
   ]
  },
  {
   "cell_type": "code",
   "execution_count": null,
   "id": "6aa9c021",
   "metadata": {},
   "outputs": [],
   "source": [
    "# 13. Summary using corr() for correlation matrix\n",
    "# print(\"\\nSummary of correlation matrix using corr():\")\n",
    "# print(df.corr())"
   ]
  },
  {
   "cell_type": "code",
   "execution_count": 28,
   "id": "dc6c2c72",
   "metadata": {},
   "outputs": [
    {
     "name": "stdout",
     "output_type": "stream",
     "text": [
      "\n",
      "Summary of unique values in 'PLAYING ROLE':\n",
      "['Allrounder' 'Bowler' 'Batsman' 'W. Keeper']\n"
     ]
    }
   ],
   "source": [
    "# 14. Summary using unique() for unique values in a specific column\n",
    "print(\"\\nSummary of unique values in 'PLAYING ROLE':\")\n",
    "print(df['PLAYING ROLE'].unique())"
   ]
  },
  {
   "cell_type": "markdown",
   "id": "18c213a1",
   "metadata": {},
   "source": [
    "### PS05 - Slicing and Indexing of DataFrame"
   ]
  },
  {
   "cell_type": "code",
   "execution_count": 29,
   "id": "d97dea1c",
   "metadata": {},
   "outputs": [
    {
     "name": "stdout",
     "output_type": "stream",
     "text": [
      "      PLAYER NAME  AGE COUNTRY PLAYING ROLE\n",
      "0     Abdulla, YA    2      SA   Allrounder\n",
      "1    Abdur Razzak    2     BAN       Bowler\n",
      "2     Agarkar, AB    2     IND       Bowler\n",
      "3       Ashwin, R    1     IND       Bowler\n",
      "4    Badrinath, S    2     IND      Batsman\n",
      "..            ...  ...     ...          ...\n",
      "125     Yadav, AS    2     IND      Batsman\n",
      "126   Younis Khan    2     PAK      Batsman\n",
      "127  Yuvraj Singh    2     IND      Batsman\n",
      "128   Zaheer Khan    2     IND       Bowler\n",
      "129    Zoysa, DNT    2      SL       Bowler\n",
      "\n",
      "[130 rows x 4 columns]\n"
     ]
    }
   ],
   "source": [
    "# Selecting specific columns\n",
    "print(df[['PLAYER NAME', 'AGE', 'COUNTRY', 'PLAYING ROLE']])"
   ]
  },
  {
   "cell_type": "code",
   "execution_count": 31,
   "id": "b63a870d",
   "metadata": {},
   "outputs": [
    {
     "name": "stdout",
     "output_type": "stream",
     "text": [
      "0         0\n",
      "1       214\n",
      "2       571\n",
      "3       284\n",
      "4        63\n",
      "       ... \n",
      "125       0\n",
      "126    6398\n",
      "127    1775\n",
      "128    1114\n",
      "129     288\n",
      "Name: T-RUNS, Length: 130, dtype: int64\n"
     ]
    }
   ],
   "source": [
    "# Selecting a single column\n",
    "print(df['T-RUNS'])"
   ]
  },
  {
   "cell_type": "code",
   "execution_count": 32,
   "id": "93303f55",
   "metadata": {},
   "outputs": [
    {
     "name": "stdout",
     "output_type": "stream",
     "text": [
      "   Sl.NO.   PLAYER NAME  AGE COUNTRY  TEAM PLAYING ROLE  T-RUNS  T-WKTS  \\\n",
      "0       1   Abdulla, YA    2      SA  KXIP   Allrounder       0       0   \n",
      "1       2  Abdur Razzak    2     BAN   RCB       Bowler     214      18   \n",
      "\n",
      "   ODI-RUNS-S  ODI-SR-B  ...  SR-B  SIXERS  RUNS-C  WKTS  AVE-BL  ECON  SR-BL  \\\n",
      "0           0      0.00  ...   0.0       0     307    15   20.47   8.9  13.93   \n",
      "1         657     71.41  ...   0.0       0      29     0    0.00  14.5   0.00   \n",
      "\n",
      "                   AUCTION YEAR  BASE PRICE  SOLD PRICE  \n",
      "0 1970-01-01 00:00:00.000002009       50000       50000  \n",
      "1 1970-01-01 00:00:00.000002008       50000       50000  \n",
      "\n",
      "[2 rows x 26 columns]\n"
     ]
    }
   ],
   "source": [
    "# Slicing rows by position using iloc\n",
    "print(df.iloc[:2])  # First 2 rows"
   ]
  },
  {
   "cell_type": "code",
   "execution_count": 35,
   "id": "4a2be7ce",
   "metadata": {},
   "outputs": [
    {
     "name": "stdout",
     "output_type": "stream",
     "text": [
      "   Sl.NO.   PLAYER NAME  AGE COUNTRY  TEAM PLAYING ROLE  T-RUNS  T-WKTS  \\\n",
      "0       1   Abdulla, YA    2      SA  KXIP   Allrounder       0       0   \n",
      "1       2  Abdur Razzak    2     BAN   RCB       Bowler     214      18   \n",
      "\n",
      "   ODI-RUNS-S  ODI-SR-B  ...  SR-B  SIXERS  RUNS-C  WKTS  AVE-BL  ECON  SR-BL  \\\n",
      "0           0      0.00  ...   0.0       0     307    15   20.47   8.9  13.93   \n",
      "1         657     71.41  ...   0.0       0      29     0    0.00  14.5   0.00   \n",
      "\n",
      "                   AUCTION YEAR  BASE PRICE  SOLD PRICE  \n",
      "0 1970-01-01 00:00:00.000002009       50000       50000  \n",
      "1 1970-01-01 00:00:00.000002008       50000       50000  \n",
      "\n",
      "[2 rows x 26 columns]\n"
     ]
    }
   ],
   "source": [
    "# Slicing rows by label using loc\n",
    "print(df.loc[:1])  # Rows with labels 0 and 1"
   ]
  },
  {
   "cell_type": "code",
   "execution_count": 37,
   "id": "5f0324b6",
   "metadata": {},
   "outputs": [
    {
     "name": "stdout",
     "output_type": "stream",
     "text": [
      "    Sl.NO.   PLAYER NAME  AGE COUNTRY  TEAM PLAYING ROLE  T-RUNS  T-WKTS  \\\n",
      "1        2  Abdur Razzak    2     BAN   RCB       Bowler     214      18   \n",
      "2        3   Agarkar, AB    2     IND   KKR       Bowler     571      58   \n",
      "3        4     Ashwin, R    1     IND   CSK       Bowler     284      31   \n",
      "9       10   Boucher, MV    2      SA  RCB+    W. Keeper    5515       1   \n",
      "10      11     Bravo, DJ    2      WI   MI+   Allrounder    2200      86   \n",
      "\n",
      "    ODI-RUNS-S  ODI-SR-B  ...    SR-B  SIXERS  RUNS-C  WKTS  AVE-BL   ECON  \\\n",
      "1          657     71.41  ...    0.00       0      29     0    0.00  14.50   \n",
      "2         1269     80.62  ...  121.01       5    1059    29   36.52   8.81   \n",
      "3          241     84.56  ...   76.32       0    1125    49   22.96   6.23   \n",
      "9         4686     84.76  ...  127.51      13       0     0    0.00   0.00   \n",
      "10        2004     81.39  ...  127.12      38    1338    47   28.47   8.12   \n",
      "\n",
      "    SR-BL                  AUCTION YEAR  BASE PRICE  SOLD PRICE  \n",
      "1    0.00 1970-01-01 00:00:00.000002008       50000       50000  \n",
      "2   24.90 1970-01-01 00:00:00.000002008      200000      350000  \n",
      "3   22.14 1970-01-01 00:00:00.000002011      100000      850000  \n",
      "9    0.00 1970-01-01 00:00:00.000002008      200000      450000  \n",
      "10  21.11 1970-01-01 00:00:00.000002011      200000      200000  \n",
      "\n",
      "[5 rows x 26 columns]\n"
     ]
    }
   ],
   "source": [
    "# Selecting rows based on a condition\n",
    "print(df[df['T-RUNS'] > 150].head())  # Rows where RUNS > 150"
   ]
  },
  {
   "cell_type": "code",
   "execution_count": 40,
   "id": "2c594627",
   "metadata": {},
   "outputs": [
    {
     "name": "stdout",
     "output_type": "stream",
     "text": [
      "    Sl.NO.   PLAYER NAME  AGE COUNTRY  TEAM PLAYING ROLE  T-RUNS  T-WKTS  \\\n",
      "1        2  Abdur Razzak    2     BAN   RCB       Bowler     214      18   \n",
      "2        3   Agarkar, AB    2     IND   KKR       Bowler     571      58   \n",
      "3        4     Ashwin, R    1     IND   CSK       Bowler     284      31   \n",
      "9       10   Boucher, MV    2      SA  RCB+    W. Keeper    5515       1   \n",
      "10      11     Bravo, DJ    2      WI   MI+   Allrounder    2200      86   \n",
      "\n",
      "    ODI-RUNS-S  ODI-SR-B  ...    SR-B  SIXERS  RUNS-C  WKTS  AVE-BL   ECON  \\\n",
      "1          657     71.41  ...    0.00       0      29     0    0.00  14.50   \n",
      "2         1269     80.62  ...  121.01       5    1059    29   36.52   8.81   \n",
      "3          241     84.56  ...   76.32       0    1125    49   22.96   6.23   \n",
      "9         4686     84.76  ...  127.51      13       0     0    0.00   0.00   \n",
      "10        2004     81.39  ...  127.12      38    1338    47   28.47   8.12   \n",
      "\n",
      "    SR-BL                  AUCTION YEAR  BASE PRICE  SOLD PRICE  \n",
      "1    0.00 1970-01-01 00:00:00.000002008       50000       50000  \n",
      "2   24.90 1970-01-01 00:00:00.000002008      200000      350000  \n",
      "3   22.14 1970-01-01 00:00:00.000002011      100000      850000  \n",
      "9    0.00 1970-01-01 00:00:00.000002008      200000      450000  \n",
      "10  21.11 1970-01-01 00:00:00.000002011      200000      200000  \n",
      "\n",
      "[5 rows x 26 columns]\n"
     ]
    }
   ],
   "source": [
    "# Selecting rows based on multiple conditions\n",
    "print(df[(df['T-RUNS'] > 150) & (df['AGE'] < 35)].head())  # RUNS > 150 and AGE < 35"
   ]
  },
  {
   "cell_type": "code",
   "execution_count": 41,
   "id": "18b237d4",
   "metadata": {},
   "outputs": [
    {
     "name": "stdout",
     "output_type": "stream",
     "text": [
      "    PLAYER NAME  AGE COUNTRY\n",
      "1  Abdur Razzak    2     BAN\n",
      "2   Agarkar, AB    2     IND\n",
      "3     Ashwin, R    1     IND\n"
     ]
    }
   ],
   "source": [
    "# Slicing DataFrame by rows and columns\n",
    "print(df.iloc[1:4, 1:4])  # Rows 1 to 3, columns 1 to 3"
   ]
  },
  {
   "cell_type": "markdown",
   "id": "3be89912",
   "metadata": {},
   "source": [
    "### PS06 - Find Occurrences of Each Unique Value in a Column"
   ]
  },
  {
   "cell_type": "code",
   "execution_count": 42,
   "id": "32dd6051",
   "metadata": {},
   "outputs": [
    {
     "name": "stdout",
     "output_type": "stream",
     "text": [
      "Occurrences of each unique value in 'COUNTRY':\n",
      "COUNTRY\n",
      "IND    53\n",
      "AUS    22\n",
      "SA     16\n",
      "SL     12\n",
      "PAK     9\n",
      "NZ      7\n",
      "WI      6\n",
      "ENG     3\n",
      "BAN     1\n",
      "ZIM     1\n",
      "Name: count, dtype: int64\n"
     ]
    }
   ],
   "source": [
    "# Using value_counts() method\n",
    "print(\"Occurrences of each unique value in 'COUNTRY':\")\n",
    "print(df['COUNTRY'].value_counts())"
   ]
  },
  {
   "cell_type": "code",
   "execution_count": 46,
   "id": "241434f1",
   "metadata": {},
   "outputs": [
    {
     "name": "stdout",
     "output_type": "stream",
     "text": [
      "\n",
      "Occurrences of each unique value in 'COUNTRY' using groupby() and size():\n",
      "COUNTRY\n",
      "IND    53\n",
      "AUS    22\n",
      "SA     16\n",
      "SL     12\n",
      "PAK     9\n",
      "NZ      7\n",
      "WI      6\n",
      "ENG     3\n",
      "BAN     1\n",
      "ZIM     1\n",
      "dtype: int64\n"
     ]
    }
   ],
   "source": [
    "# Using groupby() and size()\n",
    "print(\"\\nOccurrences of each unique value in 'COUNTRY' using groupby() and size():\")\n",
    "print(df.groupby('COUNTRY').size().sort_values(ascending=False))\n"
   ]
  },
  {
   "cell_type": "code",
   "execution_count": 47,
   "id": "8ce0b5b0",
   "metadata": {},
   "outputs": [
    {
     "name": "stdout",
     "output_type": "stream",
     "text": [
      "\n",
      "Occurrences of each unique value in 'COUNTRY' using groupby() and count():\n",
      "COUNTRY\n",
      "AUS    22\n",
      "BAN     1\n",
      "ENG     3\n",
      "IND    53\n",
      "NZ      7\n",
      "PAK     9\n",
      "SA     16\n",
      "SL     12\n",
      "WI      6\n",
      "ZIM     1\n",
      "Name: PLAYER NAME, dtype: int64\n"
     ]
    }
   ],
   "source": [
    "# Using groupby() and count()\n",
    "print(\"\\nOccurrences of each unique value in 'COUNTRY' using groupby() and count():\")\n",
    "print(df.groupby('COUNTRY')['PLAYER NAME'].count())"
   ]
  },
  {
   "cell_type": "code",
   "execution_count": 48,
   "id": "5dfd23da",
   "metadata": {},
   "outputs": [
    {
     "name": "stdout",
     "output_type": "stream",
     "text": [
      "\n",
      "Occurrences of each unique value in 'COUNTRY' using Counter:\n",
      "Counter({'IND': 53, 'AUS': 22, 'SA': 16, 'SL': 12, 'PAK': 9, 'NZ': 7, 'WI': 6, 'ENG': 3, 'BAN': 1, 'ZIM': 1})\n"
     ]
    }
   ],
   "source": [
    "from collections import Counter\n",
    "\n",
    "print(\"\\nOccurrences of each unique value in 'COUNTRY' using Counter:\")\n",
    "print(Counter(df['COUNTRY']))"
   ]
  },
  {
   "cell_type": "code",
   "execution_count": 49,
   "id": "caa5353a",
   "metadata": {},
   "outputs": [
    {
     "name": "stdout",
     "output_type": "stream",
     "text": [
      "\n",
      "Occurrences of each unique value in 'COUNTRY' using pivot_table():\n",
      "COUNTRY\n",
      "AUS    22\n",
      "BAN     1\n",
      "ENG     3\n",
      "IND    53\n",
      "NZ      7\n",
      "PAK     9\n",
      "SA     16\n",
      "SL     12\n",
      "WI      6\n",
      "ZIM     1\n",
      "dtype: int64\n"
     ]
    }
   ],
   "source": [
    "# Using pivot_table()\n",
    "print(\"\\nOccurrences of each unique value in 'COUNTRY' using pivot_table():\")\n",
    "print(df.pivot_table(index='COUNTRY', aggfunc='size'))"
   ]
  },
  {
   "cell_type": "code",
   "execution_count": 50,
   "id": "97e77bd9",
   "metadata": {},
   "outputs": [
    {
     "name": "stdout",
     "output_type": "stream",
     "text": [
      "\n",
      "Occurrences of each unique value in 'COUNTRY' using crosstab():\n",
      "col_0    count\n",
      "COUNTRY       \n",
      "AUS         22\n",
      "BAN          1\n",
      "ENG          3\n",
      "IND         53\n",
      "NZ           7\n",
      "PAK          9\n",
      "SA          16\n",
      "SL          12\n",
      "WI           6\n",
      "ZIM          1\n"
     ]
    }
   ],
   "source": [
    "# Using crosstab()\n",
    "print(\"\\nOccurrences of each unique value in 'COUNTRY' using crosstab():\")\n",
    "print(pd.crosstab(index=df['COUNTRY'], columns='count'))"
   ]
  },
  {
   "cell_type": "code",
   "execution_count": 52,
   "id": "206ad9fd",
   "metadata": {},
   "outputs": [
    {
     "name": "stdout",
     "output_type": "stream",
     "text": [
      "\n",
      "Occurrences of each unique value in 'COUNTRY' using groupby() and agg():\n",
      "         count\n",
      "COUNTRY       \n",
      "AUS         22\n",
      "BAN          1\n",
      "ENG          3\n",
      "IND         53\n",
      "NZ           7\n",
      "PAK          9\n",
      "SA          16\n",
      "SL          12\n",
      "WI           6\n",
      "ZIM          1\n"
     ]
    }
   ],
   "source": [
    "# Using groupby() and agg()\n",
    "print(\"\\nOccurrences of each unique value in 'COUNTRY' using groupby() and agg():\")\n",
    "print(df.groupby('COUNTRY').agg(count=('COUNTRY', 'size')))"
   ]
  },
  {
   "cell_type": "markdown",
   "id": "ab4603a1",
   "metadata": {},
   "source": [
    "### PS07 - Perform Cross Tabulation"
   ]
  },
  {
   "cell_type": "code",
   "execution_count": 53,
   "id": "3539b231",
   "metadata": {},
   "outputs": [
    {
     "name": "stdout",
     "output_type": "stream",
     "text": [
      "Cross Tabulation between PLAYING ROLE and AGE:\n",
      "AGE           1   2   3\n",
      "PLAYING ROLE           \n",
      "Allrounder    4  25   6\n",
      "Batsman       5  21  13\n",
      "Bowler        7  29   8\n",
      "W. Keeper     0  11   1\n"
     ]
    }
   ],
   "source": [
    "cross_tab = pd.crosstab(df['PLAYING ROLE'], df['AGE'])\n",
    "\n",
    "print(\"Cross Tabulation between PLAYING ROLE and AGE:\")\n",
    "print(cross_tab)\n"
   ]
  },
  {
   "cell_type": "code",
   "execution_count": 54,
   "id": "83c9f2bf",
   "metadata": {},
   "outputs": [
    {
     "name": "stdout",
     "output_type": "stream",
     "text": [
      "\n",
      "Cross Tabulation between PLAYING ROLE and AGE with margins:\n",
      "AGE            1   2   3  All\n",
      "PLAYING ROLE                 \n",
      "Allrounder     4  25   6   35\n",
      "Batsman        5  21  13   39\n",
      "Bowler         7  29   8   44\n",
      "W. Keeper      0  11   1   12\n",
      "All           16  86  28  130\n"
     ]
    }
   ],
   "source": [
    "# Cross tabulation with margins\n",
    "cross_tab_with_margins = pd.crosstab(df['PLAYING ROLE'], df['AGE'], margins=True)\n",
    "\n",
    "print(\"\\nCross Tabulation between PLAYING ROLE and AGE with margins:\")\n",
    "print(cross_tab_with_margins)"
   ]
  },
  {
   "cell_type": "code",
   "execution_count": 55,
   "id": "30449116",
   "metadata": {},
   "outputs": [
    {
     "name": "stdout",
     "output_type": "stream",
     "text": [
      "\n",
      "Normalized Cross Tabulation between PLAYING ROLE and AGE:\n",
      "AGE                  1         2         3\n",
      "PLAYING ROLE                              \n",
      "Allrounder    0.114286  0.714286  0.171429\n",
      "Batsman       0.128205  0.538462  0.333333\n",
      "Bowler        0.159091  0.659091  0.181818\n",
      "W. Keeper     0.000000  0.916667  0.083333\n"
     ]
    }
   ],
   "source": [
    "# Cross tabulation with normalization\n",
    "cross_tab_normalized = pd.crosstab(df['PLAYING ROLE'], df['AGE'], normalize='index')\n",
    "\n",
    "print(\"\\nNormalized Cross Tabulation between PLAYING ROLE and AGE:\")\n",
    "print(cross_tab_normalized)"
   ]
  },
  {
   "cell_type": "code",
   "execution_count": 56,
   "id": "d065cd22",
   "metadata": {},
   "outputs": [
    {
     "name": "stdout",
     "output_type": "stream",
     "text": [
      "\n",
      "Cross Tabulation with multiple factors (PLAYING ROLE and COUNTRY):\n",
      "AGE                   1   2  3\n",
      "PLAYING ROLE COUNTRY          \n",
      "Allrounder   AUS      1   4  1\n",
      "             ENG      0   2  0\n",
      "             IND      2   5  0\n",
      "             NZ       0   3  1\n",
      "             PAK      0   2  0\n",
      "             SA       0   4  3\n",
      "             SL       1   2  1\n",
      "             WI       0   3  0\n",
      "Batsman      AUS      1   3  5\n",
      "             ENG      0   1  0\n",
      "             IND      4  10  4\n",
      "             NZ       0   1  1\n",
      "             PAK      0   1  1\n",
      "             SA       0   2  1\n",
      "             SL       0   2  0\n",
      "             WI       0   1  1\n",
      "Bowler       AUS      0   3  3\n",
      "             BAN      0   1  0\n",
      "             IND      7  15  1\n",
      "             PAK      0   3  1\n",
      "             SA       0   3  1\n",
      "             SL       0   3  2\n",
      "             WI       0   1  0\n",
      "W. Keeper    AUS      0   0  1\n",
      "             IND      0   5  0\n",
      "             NZ       0   1  0\n",
      "             PAK      0   1  0\n",
      "             SA       0   2  0\n",
      "             SL       0   1  0\n",
      "             ZIM      0   1  0\n"
     ]
    }
   ],
   "source": [
    "# Cross tabulation with multiple factors\n",
    "cross_tab_multiple = pd.crosstab([df['PLAYING ROLE'], df['COUNTRY']], df['AGE'])\n",
    "\n",
    "print(\"\\nCross Tabulation with multiple factors (PLAYING ROLE and COUNTRY):\")\n",
    "print(cross_tab_multiple)"
   ]
  },
  {
   "cell_type": "markdown",
   "id": "8e89676e",
   "metadata": {},
   "source": [
    "### PS08 - Sorting DataFrame by Column Values"
   ]
  },
  {
   "cell_type": "code",
   "execution_count": 61,
   "id": "a675f62b",
   "metadata": {},
   "outputs": [
    {
     "name": "stdout",
     "output_type": "stream",
     "text": [
      "DataFrame sorted by AGE:\n",
      "    Sl.NO.  PLAYER NAME  AGE COUNTRY  TEAM PLAYING ROLE  T-RUNS  T-WKTS  \\\n",
      "3        4    Ashwin, R    1     IND   CSK       Bowler     284      31   \n",
      "12      13   Chawla, PP    1     IND  KXIP   Allrounder       5       3   \n",
      "59      60  Mathews, AD    1      SL  KKR+   Allrounder    1219       7   \n",
      "50      51     Kohli, V    1     IND   RCB      Batsman     491       0   \n",
      "51      52     Kumar, P    1     IND  RCB+       Bowler     149      27   \n",
      "\n",
      "    ODI-RUNS-S  ODI-SR-B  ...    SR-B  SIXERS  RUNS-C  WKTS  AVE-BL   ECON  \\\n",
      "3          241     84.56  ...   76.32       0    1125    49   22.96   6.23   \n",
      "12          38     65.51  ...  113.09       9    1819    73  126.30  38.11   \n",
      "59        1447     82.59  ...  123.28      12     537    15   35.80   8.20   \n",
      "50        3590     86.31  ...  119.29      49     345     4   86.25   8.84   \n",
      "51         292     88.21  ...  114.08      14    1919    53   36.21   7.73   \n",
      "\n",
      "     SR-BL                  AUCTION YEAR  BASE PRICE  SOLD PRICE  \n",
      "3    22.14 1970-01-01 00:00:00.000002011      100000      850000  \n",
      "12  100.20 1970-01-01 00:00:00.000002008      125000      400000  \n",
      "59   26.33 1970-01-01 00:00:00.000002011      300000      950000  \n",
      "50   58.50 1970-01-01 00:00:00.000002011      150000     1800000  \n",
      "51   28.11 1970-01-01 00:00:00.000002011      200000      800000  \n",
      "\n",
      "[5 rows x 26 columns]\n"
     ]
    }
   ],
   "source": [
    "# Sort by the 'AGE' column\n",
    "sorted_df = df.sort_values(by='AGE')\n",
    "print(\"DataFrame sorted by AGE:\")\n",
    "print(sorted_df.head())"
   ]
  },
  {
   "cell_type": "code",
   "execution_count": 63,
   "id": "75b8eddc",
   "metadata": {},
   "outputs": [
    {
     "name": "stdout",
     "output_type": "stream",
     "text": [
      "\n",
      "DataFrame sorted by AGE and RUNS:\n",
      "     Sl.NO.     PLAYER NAME  AGE COUNTRY  TEAM PLAYING ROLE  T-RUNS  T-WKTS  \\\n",
      "34       35   Henriques, MC    1     AUS  KKR+   Allrounder       0       0   \n",
      "39       40      Jadeja, RA    1     IND   RR+   Allrounder       0       0   \n",
      "46       47     Kamran Khan    1     IND   RR+       Bowler       0       0   \n",
      "97       98      Sharma, RG    1     IND   DC+      Batsman       0       0   \n",
      "113     114      Tiwary, SS    1     IND   MI+      Batsman       0       0   \n",
      "..      ...             ...  ...     ...   ...          ...     ...     ...   \n",
      "11       12  Chanderpaul, S    3      WI   RCB      Batsman    9918       9   \n",
      "44       45      Kallis, JH    3      SA   RCB   Allrounder   12379     276   \n",
      "86       87     Ponting, RT    3     AUS   KKR      Batsman   13218       5   \n",
      "18       19      Dravid, RS    3     IND  RCB+      Batsman   13288       1   \n",
      "111     112   Tendulkar, SR    3     IND    MI      Batsman   15470      45   \n",
      "\n",
      "     ODI-RUNS-S  ODI-SR-B  ...    SR-B  SIXERS  RUNS-C  WKTS  AVE-BL  ECON  \\\n",
      "34           18     60.00  ...  108.89       1     142     3   47.33  8.82   \n",
      "39          860     78.61  ...  120.86      35     750    26   28.85  7.33   \n",
      "46            0      0.00  ...   60.00       0     224     9   24.89  8.48   \n",
      "97         1961     78.85  ...  129.17      82     408    14   29.14  8.00   \n",
      "113          49     87.50  ...  119.60      32       0     0    0.00  0.00   \n",
      "..          ...       ...  ...     ...     ...     ...   ...     ...   ...   \n",
      "11         8778     70.74  ...   80.64       0       0     0    0.00  0.00   \n",
      "44        11498     72.97  ...  110.95      37    1713    45   38.07  7.96   \n",
      "86        13704     80.39  ...   73.58       1       0     0    0.00  0.00   \n",
      "18        10889     71.24  ...  116.88      23       0     0    0.00  0.00   \n",
      "111       18426     86.23  ...  119.22      24      58     0    0.00  9.67   \n",
      "\n",
      "     SR-BL                  AUCTION YEAR  BASE PRICE  SOLD PRICE  \n",
      "34   32.33 1970-01-01 00:00:00.000002011       50000       50000  \n",
      "39   23.65 1970-01-01 00:00:00.000002011      100000      950000  \n",
      "46   17.78 1970-01-01 00:00:00.000002009       20000       24000  \n",
      "97   21.86 1970-01-01 00:00:00.000002008      150000      750000  \n",
      "113   0.00 1970-01-01 00:00:00.000002011      100000     1600000  \n",
      "..     ...                           ...         ...         ...  \n",
      "11    0.00 1970-01-01 00:00:00.000002008      200000      200000  \n",
      "44   28.71 1970-01-01 00:00:00.000002008      225000      900000  \n",
      "86    0.00 1970-01-01 00:00:00.000002008      335000      400000  \n",
      "18    0.00 1970-01-01 00:00:00.000002011      400000      500000  \n",
      "111   0.00 1970-01-01 00:00:00.000002011      400000     1800000  \n",
      "\n",
      "[130 rows x 26 columns]\n"
     ]
    }
   ],
   "source": [
    "# Sort by 'AGE' and then by 'RUNS' within each 'AGE'\n",
    "sorted_df_multiple = df.sort_values(by=['AGE', 'T-RUNS'])\n",
    "print(\"\\nDataFrame sorted by AGE and RUNS:\")\n",
    "print(sorted_df_multiple)"
   ]
  },
  {
   "cell_type": "code",
   "execution_count": null,
   "id": "5b515ee6",
   "metadata": {},
   "outputs": [],
   "source": [
    "# Sort by 'AGE' and then by 'RUNS' within each 'AGE'\n",
    "sorted_df_multiple = df.sort_values(by=['AGE', 'T-RUNS'])\n",
    "print(\"\\nDataFrame sorted by AGE and RUNS:\")\n",
    "print(sorted_df_multiple)"
   ]
  },
  {
   "cell_type": "code",
   "execution_count": 65,
   "id": "41290b96",
   "metadata": {},
   "outputs": [
    {
     "name": "stdout",
     "output_type": "stream",
     "text": [
      "\n",
      "DataFrame sorted by index:\n",
      "   Sl.NO.   PLAYER NAME  AGE COUNTRY  TEAM PLAYING ROLE  T-RUNS  T-WKTS  \\\n",
      "0       1   Abdulla, YA    2      SA  KXIP   Allrounder       0       0   \n",
      "1       2  Abdur Razzak    2     BAN   RCB       Bowler     214      18   \n",
      "2       3   Agarkar, AB    2     IND   KKR       Bowler     571      58   \n",
      "3       4     Ashwin, R    1     IND   CSK       Bowler     284      31   \n",
      "4       5  Badrinath, S    2     IND   CSK      Batsman      63       0   \n",
      "\n",
      "   ODI-RUNS-S  ODI-SR-B  ...    SR-B  SIXERS  RUNS-C  WKTS  AVE-BL   ECON  \\\n",
      "0           0      0.00  ...    0.00       0     307    15   20.47   8.90   \n",
      "1         657     71.41  ...    0.00       0      29     0    0.00  14.50   \n",
      "2        1269     80.62  ...  121.01       5    1059    29   36.52   8.81   \n",
      "3         241     84.56  ...   76.32       0    1125    49   22.96   6.23   \n",
      "4          79     45.93  ...  120.71      28       0     0    0.00   0.00   \n",
      "\n",
      "   SR-BL                  AUCTION YEAR  BASE PRICE  SOLD PRICE  \n",
      "0  13.93 1970-01-01 00:00:00.000002009       50000       50000  \n",
      "1   0.00 1970-01-01 00:00:00.000002008       50000       50000  \n",
      "2  24.90 1970-01-01 00:00:00.000002008      200000      350000  \n",
      "3  22.14 1970-01-01 00:00:00.000002011      100000      850000  \n",
      "4   0.00 1970-01-01 00:00:00.000002011      100000      800000  \n",
      "\n",
      "[5 rows x 26 columns]\n"
     ]
    }
   ],
   "source": [
    "# Sort by index\n",
    "sorted_by_index = df.sort_index()\n",
    "print(\"\\nDataFrame sorted by index:\")\n",
    "print(sorted_by_index.head())"
   ]
  },
  {
   "cell_type": "code",
   "execution_count": 67,
   "id": "d91b8e72",
   "metadata": {},
   "outputs": [
    {
     "name": "stdout",
     "output_type": "stream",
     "text": [
      "\n",
      "DataFrame sorted by AGE with NaNs at the end:\n",
      "     Sl.NO.  PLAYER NAME  AGE COUNTRY TEAM PLAYING ROLE  T-RUNS  T-WKTS  \\\n",
      "108     109   Symonds, A  3.0     AUS  DC+   Allrounder    1462      24   \n",
      "117     118  Vaas, WPUJC  3.0      SL   DC       Bowler    3089     355   \n",
      "32       33   Hayden, ML  3.0     AUS  CSK      Batsman    8625       0   \n",
      "122     123    Warne, SK  3.0     AUS   RR       Bowler    3154     708   \n",
      "2         3  Agarkar, AB  NaN     IND  KKR       Bowler     571      58   \n",
      "\n",
      "     ODI-RUNS-S  ODI-SR-B  ...    SR-B  SIXERS  RUNS-C  WKTS  AVE-BL  ECON  \\\n",
      "108        5088     92.44  ...  129.87      41     674    20   33.70  7.70   \n",
      "117        2025     72.52  ...  110.96       3     355    18   19.72  7.55   \n",
      "32         6133     78.96  ...  137.52      44       0     0    0.00  0.00   \n",
      "122        1018     72.04  ...   92.52       6    1447    57   25.39  7.27   \n",
      "2          1269     80.62  ...  121.01       5    1059    29   36.52  8.81   \n",
      "\n",
      "     SR-BL                  AUCTION YEAR  BASE PRICE  SOLD PRICE  \n",
      "108  26.35 1970-01-01 00:00:00.000002008      250000     1350000  \n",
      "117  15.67 1970-01-01 00:00:00.000002008      200000      200000  \n",
      "32    0.00 1970-01-01 00:00:00.000002008      225000      375000  \n",
      "122  20.95 1970-01-01 00:00:00.000002008      450000      450000  \n",
      "2    24.90 1970-01-01 00:00:00.000002008      200000      350000  \n",
      "\n",
      "[5 rows x 26 columns]\n"
     ]
    }
   ],
   "source": [
    "# Sort by 'AGE' column with NaNs at the end\n",
    "df_with_nans = df.copy()\n",
    "df_with_nans.loc[2, 'AGE'] = None\n",
    "sorted_df_nans = df_with_nans.sort_values(by='AGE', na_position='last')\n",
    "print(\"\\nDataFrame sorted by AGE with NaNs at the end:\")\n",
    "print(sorted_df_nans.tail())"
   ]
  },
  {
   "cell_type": "markdown",
   "id": "fd9b384d",
   "metadata": {},
   "source": [
    "### PS09 - Find Average SOLD PRICE for Each Age Category"
   ]
  },
  {
   "cell_type": "code",
   "execution_count": 72,
   "id": "41f40d67",
   "metadata": {},
   "outputs": [
    {
     "name": "stdout",
     "output_type": "stream",
     "text": [
      "Average SOLD PRICE for each AGE category using groupby and mean:\n",
      "AGE\n",
      "1    720250.000000\n",
      "2    484534.883721\n",
      "3    520178.571429\n",
      "Name: SOLD PRICE, dtype: float64\n"
     ]
    }
   ],
   "source": [
    "# Group by AGE and calculate mean of SOLD PRICE\n",
    "mean_sold_price_by_age = df.groupby('AGE')['SOLD PRICE'].mean()\n",
    "print(\"Average SOLD PRICE for each AGE category using groupby and mean:\")\n",
    "print(mean_sold_price_by_age)"
   ]
  },
  {
   "cell_type": "markdown",
   "id": "a9fc4fd1",
   "metadata": {},
   "source": [
    "### PS10 - Perform Joining of DataFrame"
   ]
  },
  {
   "cell_type": "markdown",
   "id": "1651b366",
   "metadata": {},
   "source": [
    "Compare the average SOLD PRICE for different AGE categories with the different age and PLAYING ROLE categories. Merge the DataFrames `soldprice_by_age` and `soldprice_by_age_role` using an outer join on the common column `AGE`. Consider AGE as a categorical variable (e.g., 1, 2, 3)."
   ]
  },
  {
   "cell_type": "code",
   "execution_count": 73,
   "id": "d5ca7e8c",
   "metadata": {},
   "outputs": [],
   "source": [
    "soldprice_by_age = df.groupby('AGE')['SOLD PRICE'].mean().reset_index()\n",
    "soldprice_by_age.rename(columns={'SOLD PRICE': 'AVG SOLD PRICE'}, inplace=True)\n",
    "\n",
    "soldprice_by_age_role = df.groupby(['AGE', 'PLAYING ROLE'])['SOLD PRICE'].mean().reset_index()\n",
    "soldprice_by_age_role.rename(columns={'SOLD PRICE': 'AVG SOLD PRICE BY ROLE'}, inplace=True)"
   ]
  },
  {
   "cell_type": "code",
   "execution_count": 76,
   "id": "53a427fe",
   "metadata": {},
   "outputs": [
    {
     "name": "stdout",
     "output_type": "stream",
     "text": [
      "Merged DataFrame with outer join on AGE:\n",
      "    AGE  AVG SOLD PRICE PLAYING ROLE  AVG SOLD PRICE BY ROLE\n",
      "0     1   720250.000000   Allrounder            5.875000e+05\n",
      "1     1   720250.000000      Batsman            1.110000e+06\n",
      "2     1   720250.000000       Bowler            5.177143e+05\n",
      "3     2   484534.883721   Allrounder            4.494000e+05\n",
      "4     2   484534.883721      Batsman            6.547619e+05\n",
      "5     2   484534.883721       Bowler            3.979310e+05\n",
      "6     2   484534.883721    W. Keeper            4.677273e+05\n",
      "7     3   520178.571429   Allrounder            7.666667e+05\n",
      "8     3   520178.571429      Batsman            4.576923e+05\n",
      "9     3   520178.571429       Bowler            4.143750e+05\n",
      "10    3   520178.571429    W. Keeper            7.000000e+05\n",
      "\n",
      "Merged DataFrame with missing values handled:\n",
      "    AGE  AVG SOLD PRICE PLAYING ROLE  AVG SOLD PRICE BY ROLE\n",
      "0     1   720250.000000   Allrounder            5.875000e+05\n",
      "1     1   720250.000000      Batsman            1.110000e+06\n",
      "2     1   720250.000000       Bowler            5.177143e+05\n",
      "3     2   484534.883721   Allrounder            4.494000e+05\n",
      "4     2   484534.883721      Batsman            6.547619e+05\n",
      "5     2   484534.883721       Bowler            3.979310e+05\n",
      "6     2   484534.883721    W. Keeper            4.677273e+05\n",
      "7     3   520178.571429   Allrounder            7.666667e+05\n",
      "8     3   520178.571429      Batsman            4.576923e+05\n",
      "9     3   520178.571429       Bowler            4.143750e+05\n",
      "10    3   520178.571429    W. Keeper            7.000000e+05\n"
     ]
    }
   ],
   "source": [
    "# Merge DataFrames on the AGE column using an outer join\n",
    "merged_df = pd.merge(soldprice_by_age, soldprice_by_age_role, on='AGE', how='outer')\n",
    "\n",
    "print(\"Merged DataFrame with outer join on AGE:\")\n",
    "print(merged_df)\n",
    "\n",
    "merged_df.fillna('Not Available', inplace=True)\n",
    "print(\"\\nMerged DataFrame with missing values handled:\")\n",
    "print(merged_df)\n"
   ]
  },
  {
   "cell_type": "markdown",
   "id": "9b90327a",
   "metadata": {},
   "source": [
    "### PS11 - Calculate Premium for AGE and PLAYING ROLE Categories"
   ]
  },
  {
   "cell_type": "markdown",
   "id": "7f30336e",
   "metadata": {},
   "source": [
    "To calculate the premium for each AGE and PLAYING ROLE category, we use the following formula:\n",
    "\n",
    "            Average SOLD PRICE for AGE and PLAYING ROLE - Average SOLD PRICE for AGE\n",
    "        \n",
    "Change = ____________________________________________________________________________________________________________\n",
    "\n",
    "                               Average SOLD PRICE for AGE"
   ]
  },
  {
   "cell_type": "code",
   "execution_count": 77,
   "id": "082e90bb",
   "metadata": {},
   "outputs": [],
   "source": [
    "merged_df['CHANGE (%)'] = ((merged_df['AVG SOLD PRICE BY ROLE'] - merged_df['AVG SOLD PRICE']) / merged_df['AVG SOLD PRICE']) * 100"
   ]
  },
  {
   "cell_type": "code",
   "execution_count": 78,
   "id": "aca1a43b",
   "metadata": {},
   "outputs": [
    {
     "name": "stdout",
     "output_type": "stream",
     "text": [
      "DataFrame with Premium (Change) Calculation:\n",
      "    AGE  AVG SOLD PRICE PLAYING ROLE  AVG SOLD PRICE BY ROLE  CHANGE (%)\n",
      "0     1   720250.000000   Allrounder            5.875000e+05  -18.431100\n",
      "1     1   720250.000000      Batsman            1.110000e+06   54.113155\n",
      "2     1   720250.000000       Bowler            5.177143e+05  -28.120196\n",
      "3     2   484534.883721   Allrounder            4.494000e+05   -7.251260\n",
      "4     2   484534.883721      Batsman            6.547619e+05   35.132047\n",
      "5     2   484534.883721       Bowler            3.979310e+05  -17.873605\n",
      "6     2   484534.883721    W. Keeper            4.677273e+05   -3.468813\n",
      "7     3   520178.571429   Allrounder            7.666667e+05   47.385284\n",
      "8     3   520178.571429      Batsman            4.576923e+05  -12.012464\n",
      "9     3   520178.571429       Bowler            4.143750e+05  -20.339856\n",
      "10    3   520178.571429    W. Keeper            7.000000e+05   34.569173\n",
      "\n",
      "DataFrame with missing values handled:\n",
      "    AGE  AVG SOLD PRICE PLAYING ROLE  AVG SOLD PRICE BY ROLE  CHANGE (%)\n",
      "0     1   720250.000000   Allrounder            5.875000e+05  -18.431100\n",
      "1     1   720250.000000      Batsman            1.110000e+06   54.113155\n",
      "2     1   720250.000000       Bowler            5.177143e+05  -28.120196\n",
      "3     2   484534.883721   Allrounder            4.494000e+05   -7.251260\n",
      "4     2   484534.883721      Batsman            6.547619e+05   35.132047\n",
      "5     2   484534.883721       Bowler            3.979310e+05  -17.873605\n",
      "6     2   484534.883721    W. Keeper            4.677273e+05   -3.468813\n",
      "7     3   520178.571429   Allrounder            7.666667e+05   47.385284\n",
      "8     3   520178.571429      Batsman            4.576923e+05  -12.012464\n",
      "9     3   520178.571429       Bowler            4.143750e+05  -20.339856\n",
      "10    3   520178.571429    W. Keeper            7.000000e+05   34.569173\n"
     ]
    }
   ],
   "source": [
    "# Print the result\n",
    "print(\"DataFrame with Premium (Change) Calculation:\")\n",
    "print(merged_df)\n",
    "\n",
    "# Optional: Fill missing values if necessary\n",
    "merged_df.fillna('Not Available', inplace=True)\n",
    "print(\"\\nDataFrame with missing values handled:\")\n",
    "print(merged_df)"
   ]
  },
  {
   "cell_type": "markdown",
   "id": "3348236c",
   "metadata": {},
   "source": [
    "### PS12 - Exploration of Data Using Visualization"
   ]
  },
  {
   "cell_type": "code",
   "execution_count": 82,
   "id": "5a763804",
   "metadata": {},
   "outputs": [],
   "source": [
    "import matplotlib.pyplot as plt"
   ]
  },
  {
   "cell_type": "markdown",
   "id": "9847f6db",
   "metadata": {},
   "source": [
    "#### Bar Chart"
   ]
  },
  {
   "cell_type": "code",
   "execution_count": 85,
   "id": "532c937f",
   "metadata": {},
   "outputs": [
    {
     "data": {
      "image/png": "[encoded data removed]",
      "text/plain": [
       "<Figure size 1000x600 with 1 Axes>"
      ]
     },
     "metadata": {},
     "output_type": "display_data"
    }
   ],
   "source": [
    "# Bar chart: Average SOLD PRICE by COUNTRY\n",
    "country_avg_price = df.groupby('COUNTRY')['SOLD PRICE'].mean().sort_values()\n",
    "plt.figure(figsize=(10, 6))\n",
    "plt.bar(country_avg_price.index, country_avg_price.values, color='skyblue')\n",
    "plt.title('Average SOLD PRICE by COUNTRY')\n",
    "plt.xlabel('Country')\n",
    "plt.ylabel('Average SOLD PRICE')\n",
    "plt.xticks(rotation=45)\n",
    "plt.tight_layout()\n",
    "plt.show()"
   ]
  },
  {
   "cell_type": "markdown",
   "id": "fd71f4d2",
   "metadata": {},
   "source": [
    "#### Scatter Plot"
   ]
  },
  {
   "cell_type": "code",
   "execution_count": 87,
   "id": "ead7e6cd",
   "metadata": {},
   "outputs": [
    {
     "data": {
      "image/png": "[encoded data removed]",
      "text/plain": [
       "<Figure size 1000x600 with 1 Axes>"
      ]
     },
     "metadata": {},
     "output_type": "display_data"
    }
   ],
   "source": [
    "# Scatter plot: T-RUNS vs AGE\n",
    "plt.figure(figsize=(10, 6))\n",
    "plt.scatter(df['T-RUNS'], df['AGE'], alpha=0.5, color='green')\n",
    "plt.title('T-RUNS vs AGE')\n",
    "plt.xlabel('T-RUNS')\n",
    "plt.ylabel('AGE')\n",
    "plt.grid(True)\n",
    "plt.tight_layout()\n",
    "plt.show()\n"
   ]
  },
  {
   "cell_type": "markdown",
   "id": "1465f7e9",
   "metadata": {},
   "source": [
    "#### Histogram"
   ]
  },
  {
   "cell_type": "code",
   "execution_count": 88,
   "id": "bfef8bda",
   "metadata": {},
   "outputs": [
    {
     "data": {
      "image/png": "[encoded data removed]",
      "text/plain": [
       "<Figure size 1000x600 with 1 Axes>"
      ]
     },
     "metadata": {},
     "output_type": "display_data"
    }
   ],
   "source": [
    "# Histogram: Distribution of SOLD PRICE\n",
    "plt.figure(figsize=(10, 6))\n",
    "plt.hist(df['SOLD PRICE'], bins=20, color='purple', edgecolor='black')\n",
    "plt.title('Distribution of SOLD PRICE')\n",
    "plt.xlabel('SOLD PRICE')\n",
    "plt.ylabel('Frequency')\n",
    "plt.grid(True)\n",
    "plt.tight_layout()\n",
    "plt.show()"
   ]
  },
  {
   "cell_type": "markdown",
   "id": "5eb0f17f",
   "metadata": {},
   "source": [
    "#### Correlation Plot"
   ]
  },
  {
   "cell_type": "code",
   "execution_count": 90,
   "id": "cb47007b",
   "metadata": {},
   "outputs": [],
   "source": [
    "import seaborn as sns"
   ]
  },
  {
   "cell_type": "code",
   "execution_count": 91,
   "id": "c5d21370",
   "metadata": {},
   "outputs": [
    {
     "data": {
      "image/png": "[encoded data removed]",
      "text/plain": [
       "<Figure size 1000x800 with 2 Axes>"
      ]
     },
     "metadata": {},
     "output_type": "display_data"
    }
   ],
   "source": [
    "# Compute correlation matrix\n",
    "corr = df[['T-RUNS', 'SOLD PRICE', 'ODI-RUNS-S', 'CAPTAINCY EXP']].corr()\n",
    "\n",
    "# Correlation plot using seaborn\n",
    "plt.figure(figsize=(10, 8))\n",
    "sns.heatmap(corr, annot=True, cmap='coolwarm', vmin=-1, vmax=1, center=0)\n",
    "plt.title('Correlation Matrix')\n",
    "plt.tight_layout()\n",
    "plt.show()"
   ]
  },
  {
   "cell_type": "markdown",
   "id": "6df02be0",
   "metadata": {},
   "source": [
    "#### Heatmap"
   ]
  },
  {
   "cell_type": "code",
   "execution_count": 92,
   "id": "9d1a99b5",
   "metadata": {},
   "outputs": [
    {
     "data": {
      "image/png": "[encoded data removed]",
      "text/plain": [
       "<Figure size 1200x800 with 2 Axes>"
      ]
     },
     "metadata": {},
     "output_type": "display_data"
    }
   ],
   "source": [
    "# Heatmap: Average SOLD PRICE by AGE and PLAYING ROLE\n",
    "pivot_table = df.pivot_table(values='SOLD PRICE', index='AGE', columns='PLAYING ROLE', aggfunc='mean')\n",
    "\n",
    "plt.figure(figsize=(12, 8))\n",
    "sns.heatmap(pivot_table, annot=True, cmap='YlGnBu', fmt=\".1f\")\n",
    "plt.title('Average SOLD PRICE by AGE and PLAYING ROLE')\n",
    "plt.xlabel('PLAYING ROLE')\n",
    "plt.ylabel('AGE')\n",
    "plt.tight_layout()\n",
    "plt.show()"
   ]
  }
 ],
 "metadata": {
  "kernelspec": {
   "display_name": "Python 3",
   "language": "python",
   "name": "python3"
  },
  "language_info": {
   "codemirror_mode": {
    "name": "ipython",
    "version": 3
   },
   "file_extension": ".py",
   "mimetype": "text/x-python",
   "name": "python",
   "nbconvert_exporter": "python",
   "pygments_lexer": "ipython3",
   "version": "3.12.4"
  }
 },
 "nbformat": 4,
 "nbformat_minor": 5
}
