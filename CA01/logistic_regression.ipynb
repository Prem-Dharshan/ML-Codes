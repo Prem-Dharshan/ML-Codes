{
 "cells": [
  {
   "cell_type": "code",
   "execution_count": 13,
   "metadata": {},
   "outputs": [],
   "source": [
    "import numpy as np\n",
    "import seaborn as sns\n",
    "import pandas as pd\n",
    "import matplotlib.pyplot as plt\n",
    "\n",
    "from sklearn.preprocessing import StandardScaler"
   ]
  },
  {
   "cell_type": "code",
   "execution_count": 14,
   "metadata": {},
   "outputs": [],
   "source": [
    "class LogisticRegression():\n",
    "    def __init__(self, alpha=0.01, iterations=1000):\n",
    "        self.iterations = iterations\n",
    "        self.alpha = alpha\n",
    "        self.w = None\n",
    "        self.b = None\n",
    "\n",
    "    def sigmoid(self, z):\n",
    "        return 1 / (1 + np.exp(-z))\n",
    "    \n",
    "    def logLoss(self, y, yhat):\n",
    "        return -(y * np.log(yhat)) - ((1 - y) * np.log(1 - yhat))\n",
    "\n",
    "\n",
    "    def compute_cost(self, y, yhat):\n",
    "        m = len(y)\n",
    "        cost = np.sum(self.logLoss(y, yhat)) / m\n",
    "        return cost\n",
    "    \n",
    "    def gradientDescent(self, X, y):\n",
    "        m, n = X.shape\n",
    "        self.w = np.zeros(n)\n",
    "        self.b = 0\n",
    "        cost_history = [] \n",
    "\n",
    "        for i in range(self.iterations):\n",
    "            z = np.dot(X, self.w) + self.b\n",
    "            yhat = self.sigmoid(z)\n",
    "            \n",
    "            dw = (1 / m) * np.dot(X.T, (yhat - y))\n",
    "            db = (1 / m) * np.sum(yhat - y)\n",
    "            \n",
    "            # Update weights and bias\n",
    "            self.w -= self.alpha * dw\n",
    "            self.b -= self.alpha * db\n",
    "\n",
    "            cost = self.compute_cost(y, yhat)\n",
    "            cost_history.append(cost)\n",
    "    \n",
    "        return cost_history\n",
    "    \n",
    "    def predict(self, X):\n",
    "        z = np.dot(X, self.w) + self.b\n",
    "        yhat = self.sigmoid(z)\n",
    "        pred_class = [1 if p >= 0.50 else 0 for p in yhat]\n",
    "        return np.array(pred_class)\n",
    "    \n",
    "    def accuracy(self, y, yhat):\n",
    "        correct_predictions = np.sum(y == yhat)\n",
    "        accuracy = correct_predictions / len(y)\n",
    "        return accuracy\n",
    "    \n",
    "    def precision(self, y, yhat):\n",
    "        tp = np.sum((y == 1) & (yhat == 1))\n",
    "        fp = np.sum((y == 0) & (yhat == 1))\n",
    "        if (tp + fp) == 0:\n",
    "            return 0\n",
    "        return tp / (tp + fp)\n",
    "    \n",
    "    def recall(self, y, yhat):\n",
    "        tp = np.sum((y == 1) & (yhat == 1))\n",
    "        fn = np.sum((y == 1) & (yhat == 0))\n",
    "        if (tp + fn) == 0:\n",
    "            return 0\n",
    "        return tp / (tp + fn)\n",
    "    \n",
    "    def f1_score(self, y, yhat):\n",
    "        prec = self.precision(y, yhat)\n",
    "        rec = self.recall(y, yhat)\n",
    "        if (prec + rec) == 0:\n",
    "            return 0\n",
    "        return 2 * (prec * rec) / (prec + rec)\n",
    "    \n",
    "    def confusion_matrix(self, y_true, y_pred):\n",
    "        # Compute confusion matrix components\n",
    "        TP = np.sum((y_true == 1) & (y_pred == 1))\n",
    "        TN = np.sum((y_true == 0) & (y_pred == 0))\n",
    "        FP = np.sum((y_true == 0) & (y_pred == 1))\n",
    "        FN = np.sum((y_true == 1) & (y_pred == 0))\n",
    "        \n",
    "        # Create confusion matrix\n",
    "        cm = np.array([[TN, FP],\n",
    "                       [FN, TP]])\n",
    "        return cm\n",
    "\n",
    "    def plot_confusion_matrix(self, y_true, y_pred):\n",
    "        cm = self.confusion_matrix(y_true, y_pred)\n",
    "        plt.figure(figsize=(7, 5))\n",
    "        sns.heatmap(cm, annot=True, fmt='d', cmap='Blues', \n",
    "                    xticklabels=['No', 'Yes'], yticklabels=['No', 'Yes'])\n",
    "        plt.xlabel('Predicted')\n",
    "        plt.ylabel('True')\n",
    "        plt.title('Confusion Matrix')\n",
    "        plt.show()"
   ]
  },
  {
   "cell_type": "code",
   "execution_count": 15,
   "metadata": {},
   "outputs": [
    {
     "data": {
      "text/html": [
       "<div>\n",
       "<style scoped>\n",
       "    .dataframe tbody tr th:only-of-type {\n",
       "        vertical-align: middle;\n",
       "    }\n",
       "\n",
       "    .dataframe tbody tr th {\n",
       "        vertical-align: top;\n",
       "    }\n",
       "\n",
       "    .dataframe thead th {\n",
       "        text-align: right;\n",
       "    }\n",
       "</style>\n",
       "<table border=\"1\" class=\"dataframe\">\n",
       "  <thead>\n",
       "    <tr style=\"text-align: right;\">\n",
       "      <th></th>\n",
       "      <th>Pregnancies</th>\n",
       "      <th>Glucose</th>\n",
       "      <th>BloodPressure</th>\n",
       "      <th>SkinThickness</th>\n",
       "      <th>Insulin</th>\n",
       "      <th>BMI</th>\n",
       "      <th>DiabetesPedigreeFunction</th>\n",
       "      <th>Age</th>\n",
       "      <th>Outcome</th>\n",
       "    </tr>\n",
       "  </thead>\n",
       "  <tbody>\n",
       "    <tr>\n",
       "      <th>0</th>\n",
       "      <td>6</td>\n",
       "      <td>148</td>\n",
       "      <td>72</td>\n",
       "      <td>35</td>\n",
       "      <td>0</td>\n",
       "      <td>33.6</td>\n",
       "      <td>0.627</td>\n",
       "      <td>50</td>\n",
       "      <td>1</td>\n",
       "    </tr>\n",
       "    <tr>\n",
       "      <th>1</th>\n",
       "      <td>1</td>\n",
       "      <td>85</td>\n",
       "      <td>66</td>\n",
       "      <td>29</td>\n",
       "      <td>0</td>\n",
       "      <td>26.6</td>\n",
       "      <td>0.351</td>\n",
       "      <td>31</td>\n",
       "      <td>0</td>\n",
       "    </tr>\n",
       "    <tr>\n",
       "      <th>2</th>\n",
       "      <td>8</td>\n",
       "      <td>183</td>\n",
       "      <td>64</td>\n",
       "      <td>0</td>\n",
       "      <td>0</td>\n",
       "      <td>23.3</td>\n",
       "      <td>0.672</td>\n",
       "      <td>32</td>\n",
       "      <td>1</td>\n",
       "    </tr>\n",
       "    <tr>\n",
       "      <th>3</th>\n",
       "      <td>1</td>\n",
       "      <td>89</td>\n",
       "      <td>66</td>\n",
       "      <td>23</td>\n",
       "      <td>94</td>\n",
       "      <td>28.1</td>\n",
       "      <td>0.167</td>\n",
       "      <td>21</td>\n",
       "      <td>0</td>\n",
       "    </tr>\n",
       "    <tr>\n",
       "      <th>4</th>\n",
       "      <td>0</td>\n",
       "      <td>137</td>\n",
       "      <td>40</td>\n",
       "      <td>35</td>\n",
       "      <td>168</td>\n",
       "      <td>43.1</td>\n",
       "      <td>2.288</td>\n",
       "      <td>33</td>\n",
       "      <td>1</td>\n",
       "    </tr>\n",
       "  </tbody>\n",
       "</table>\n",
       "</div>"
      ],
      "text/plain": [
       "   Pregnancies  Glucose  BloodPressure  SkinThickness  Insulin   BMI  \\\n",
       "0            6      148             72             35        0  33.6   \n",
       "1            1       85             66             29        0  26.6   \n",
       "2            8      183             64              0        0  23.3   \n",
       "3            1       89             66             23       94  28.1   \n",
       "4            0      137             40             35      168  43.1   \n",
       "\n",
       "   DiabetesPedigreeFunction  Age  Outcome  \n",
       "0                     0.627   50        1  \n",
       "1                     0.351   31        0  \n",
       "2                     0.672   32        1  \n",
       "3                     0.167   21        0  \n",
       "4                     2.288   33        1  "
      ]
     },
     "execution_count": 15,
     "metadata": {},
     "output_type": "execute_result"
    }
   ],
   "source": [
    "df = pd.read_csv('../Logistic_Regression/diabetes2.csv')\n",
    "df.head()"
   ]
  },
  {
   "cell_type": "code",
   "execution_count": 16,
   "metadata": {},
   "outputs": [],
   "source": [
    "# Normalizing/Scaling data\n",
    "scaler = StandardScaler()\n",
    "columns_to_scale = ['Glucose', 'BloodPressure', 'SkinThickness', 'Insulin', 'BMI', 'Age']\n",
    "df[columns_to_scale] = scaler.fit_transform(df[columns_to_scale])"
   ]
  },
  {
   "cell_type": "code",
   "execution_count": 17,
   "metadata": {},
   "outputs": [],
   "source": [
    "# Splitting features and labels\n",
    "X = df.drop('Outcome', axis=1)  # Input Features\n",
    "y = df['Outcome']  # Labels"
   ]
  },
  {
   "cell_type": "code",
   "execution_count": 18,
   "metadata": {},
   "outputs": [],
   "source": [
    "# Split data into training and testing sets\n",
    "from sklearn.model_selection import train_test_split\n",
    "\n",
    "X_train, X_test, y_train, y_test = train_test_split(X, y, test_size=0.2, random_state=42)"
   ]
  },
  {
   "cell_type": "code",
   "execution_count": 19,
   "metadata": {},
   "outputs": [],
   "source": [
    "# Initialize and train the model\n",
    "model = LogisticRegression(alpha=0.01, iterations=1000)\n",
    "cost_history = model.gradientDescent(X_train, y_train)"
   ]
  },
  {
   "cell_type": "code",
   "execution_count": 20,
   "metadata": {},
   "outputs": [],
   "source": [
    "# Make predictions\n",
    "y_pred = model.predict(X_test)"
   ]
  },
  {
   "cell_type": "code",
   "execution_count": 21,
   "metadata": {},
   "outputs": [
    {
     "name": "stdout",
     "output_type": "stream",
     "text": [
      "Weights and Bias:\n",
      "Pregnancies: -0.0078\n",
      "Glucose: 0.7820\n",
      "BloodPressure: -0.0757\n",
      "SkinThickness: 0.0283\n",
      "Insulin: -0.0310\n",
      "BMI: 0.5387\n",
      "DiabetesPedigreeFunction: -0.0882\n",
      "Age: 0.4658\n",
      "\n",
      "Bias: -0.5467\n"
     ]
    }
   ],
   "source": [
    "# Print the weights and bias with corresponding feature names\n",
    "print(\"Weights and Bias:\")\n",
    "feature_names = X.columns\n",
    "for feature, weight in zip(feature_names, model.w):\n",
    "    print(f\"{feature}: {weight:.4f}\")\n",
    "print(f\"\\nBias: {model.b:.4f}\")"
   ]
  },
  {
   "cell_type": "code",
   "execution_count": 22,
   "metadata": {},
   "outputs": [
    {
     "name": "stdout",
     "output_type": "stream",
     "text": [
      "Accuracy: 0.72\n",
      "Precision: 0.61\n",
      "Recall: 0.62\n",
      "F1 Score: 0.61\n"
     ]
    }
   ],
   "source": [
    "# Evaluate the model\n",
    "\n",
    "accuracy = model.accuracy(y_test, y_pred)\n",
    "precision = model.precision(y_test, y_pred)\n",
    "recall = model.recall(y_test, y_pred)\n",
    "f1 = model.f1_score(y_test, y_pred)\n",
    "\n",
    "print(f\"Accuracy: {accuracy:.2f}\")\n",
    "print(f\"Precision: {precision:.2f}\")\n",
    "print(f\"Recall: {recall:.2f}\")\n",
    "print(f\"F1 Score: {f1:.2f}\")"
   ]
  },
  {
   "cell_type": "code",
   "execution_count": 23,
   "metadata": {},
   "outputs": [
    {
     "data": {
      "image/png": "[encoded data removed]",
      "text/plain": [
       "<Figure size 700x500 with 2 Axes>"
      ]
     },
     "metadata": {},
     "output_type": "display_data"
    }
   ],
   "source": [
    "# Plot confusion matrix\n",
    "model.plot_confusion_matrix(y_test, y_pred)"
   ]
  },
  {
   "cell_type": "code",
   "execution_count": 24,
   "metadata": {},
   "outputs": [
    {
     "name": "stdout",
     "output_type": "stream",
     "text": [
      "MSE: 0.2792207792207792\n",
      "R2: -0.21616161616161644\n"
     ]
    }
   ],
   "source": [
    "# Interpreting the results:\n",
    "\n",
    "# MSE: Lower values of MSE indicate better model performance.\n",
    "# It represents the average squared difference between the predicted and actual values.\n",
    "\n",
    "# R-squared: This value ranges from 0 to 1, with higher values indicating a better fit.\n",
    "# It represents the proportion of variance in the target variable explained by the model.\n",
    "from sklearn.metrics import mean_squared_error, r2_score\n",
    "\n",
    "mse=mean_squared_error(y_test, y_pred)\n",
    "r2=r2_score(y_test, y_pred)\n",
    "print(\"MSE:\", mse)\n",
    "print(\"R2:\", r2)"
   ]
  }
 ],
 "metadata": {
  "kernelspec": {
   "display_name": "venv",
   "language": "python",
   "name": "python3"
  },
  "language_info": {
   "codemirror_mode": {
    "name": "ipython",
    "version": 3
   },
   "file_extension": ".py",
   "mimetype": "text/x-python",
   "name": "python",
   "nbconvert_exporter": "python",
   "pygments_lexer": "ipython3",
   "version": "3.12.4"
  }
 },
 "nbformat": 4,
 "nbformat_minor": 2
}
